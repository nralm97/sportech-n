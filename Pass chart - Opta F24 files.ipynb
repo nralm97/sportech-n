{
 "cells": [
  {
   "cell_type": "code",
   "execution_count": 24,
   "metadata": {},
   "outputs": [],
   "source": [
    "import csv\n",
    "import pandas as pd\n",
    "import xml.etree.ElementTree as et\n",
    "import numpy as np\n",
    "import matplotlib.pyplot as plt\n",
    "from matplotlib.patches import Arc\n",
    "from datetime import datetime as dt"
   ]
  },
  {
   "cell_type": "markdown",
   "metadata": {},
   "source": [
    "### Leer fichero F24 con datos de un partido reemplazar el nombre aquí"
   ]
  },
  {
   "cell_type": "code",
   "execution_count": 25,
   "metadata": {},
   "outputs": [],
   "source": [
    "tree = et.ElementTree(file = \"f24-23-2020-2136563-eventdetails.xml\")\n",
    "games = tree.getroot()"
   ]
  },
  {
   "cell_type": "code",
   "execution_count": 26,
   "metadata": {},
   "outputs": [
    {
     "data": {
      "text/plain": [
       "{'id': '2136563',\n",
       " 'additional_info': 'Behind Closed Doors',\n",
       " 'away_score': '1',\n",
       " 'away_team_id': '450',\n",
       " 'away_team_name': 'Osasuna',\n",
       " 'competition_id': '23',\n",
       " 'competition_name': 'Spanish La Liga',\n",
       " 'game_date': '2021-05-16T17:30:00',\n",
       " 'home_score': '2',\n",
       " 'home_team_id': '175',\n",
       " 'home_team_name': 'Atlético de Madrid',\n",
       " 'matchday': '37',\n",
       " 'period_1_start': '2021-05-16T17:30:08',\n",
       " 'period_2_start': '2021-05-16T18:35:55',\n",
       " 'season_id': '2020',\n",
       " 'season_name': 'Season 2020/2021'}"
      ]
     },
     "execution_count": 26,
     "metadata": {},
     "output_type": "execute_result"
    }
   ],
   "source": [
    "match_details = games[0].attrib\n",
    "match_details"
   ]
  },
  {
   "cell_type": "markdown",
   "metadata": {},
   "source": [
    "## Squads file"
   ]
  },
  {
   "cell_type": "code",
   "execution_count": 27,
   "metadata": {},
   "outputs": [],
   "source": [
    "tree3 = et.ElementTree(file = \"srml-23-2020-squads.xml\")\n",
    "soccerfeed = tree3.getroot()"
   ]
  },
  {
   "cell_type": "code",
   "execution_count": 28,
   "metadata": {},
   "outputs": [],
   "source": [
    "player_ids = []\n",
    "player_names = []\n",
    "\n",
    "for child in soccerfeed:\n",
    "    for grchild in child:\n",
    "        if grchild.tag == \"Team\":\n",
    "            for grgrchild in grchild:\n",
    "                if grgrchild.tag == \"Player\":\n",
    "                    player_ids.append(grgrchild.attrib[\"uID\"].lstrip('p'))                     \n",
    "                    for kchild in grgrchild:\n",
    "                            if kchild.tag == \"Name\":\n",
    "                                player_names.append(kchild.text)\n",
    "                        \n",
    "player_dict = dict(zip(player_ids, player_names))"
   ]
  },
  {
   "cell_type": "markdown",
   "metadata": {},
   "source": [
    "#### Ver los primeros 10 elementos del dicccionario de jugadores"
   ]
  },
  {
   "cell_type": "code",
   "execution_count": 29,
   "metadata": {
    "scrolled": false
   },
   "outputs": [
    {
     "data": {
      "text/plain": [
       "[('91406', 'Fernando Pacheco'),\n",
       " ('176245', 'Antonio Sivera'),\n",
       " ('220060', 'Aritz Castro'),\n",
       " ('244337', 'Tachi'),\n",
       " ('126119', 'Rubén Duarte'),\n",
       " ('93421', 'Rodrigo Ely'),\n",
       " ('49370', 'Víctor Laguardia'),\n",
       " ('246162', 'Martín Aguirregabiria'),\n",
       " ('77359', 'Florian Lejeune'),\n",
       " ('90728', 'Ximo Navarro')]"
      ]
     },
     "execution_count": 29,
     "metadata": {},
     "output_type": "execute_result"
    }
   ],
   "source": [
    "list(player_dict.items())[:10]"
   ]
  },
  {
   "cell_type": "markdown",
   "metadata": {},
   "source": [
    "## Match preview summary"
   ]
  },
  {
   "cell_type": "code",
   "execution_count": 30,
   "metadata": {},
   "outputs": [
    {
     "name": "stdout",
     "output_type": "stream",
     "text": [
      "Atlético de Madrid v Osasuna, La Liga 2020/2021\n",
      "Date: Sunday 16 May 2021\n",
      "Kick-off: 5PM\n"
     ]
    }
   ],
   "source": [
    "print (\"%s v %s, %s %s\" % (match_details[\"home_team_name\"],\n",
    "                          match_details[\"away_team_name\"],\n",
    "                          match_details[\"competition_name\"][8:],\n",
    "                          match_details[\"season_name\"][7:]))\n",
    "\n",
    "\n",
    "print (\"Date: %s\" % dt.strftime(dt.strptime(match_details[\"game_date\"], '%Y-%m-%dT%H:%M:%S'),\n",
    "                               \"%A %d %B %Y\"))\n",
    "\n",
    "print (\"Kick-off: %s\" % dt.strftime(dt.strptime(match_details[\"game_date\"], '%Y-%m-%dT%H:%M:%S'),\n",
    "                               \"%I%p\").lstrip(\"0\"))"
   ]
  },
  {
   "cell_type": "markdown",
   "metadata": {},
   "source": [
    "### Equipos diccionario"
   ]
  },
  {
   "cell_type": "code",
   "execution_count": 31,
   "metadata": {},
   "outputs": [
    {
     "name": "stdout",
     "output_type": "stream",
     "text": [
      "{'175': 'Atlético de Madrid', '450': 'Osasuna'}\n"
     ]
    }
   ],
   "source": [
    "team_dict = {match_details[\"home_team_id\"]: match_details[\"home_team_name\"],\n",
    "             match_details[\"away_team_id\"]: match_details[\"away_team_name\"]}\n",
    "\n",
    "print (team_dict)"
   ]
  },
  {
   "cell_type": "markdown",
   "metadata": {},
   "source": [
    "## Passes"
   ]
  },
  {
   "cell_type": "code",
   "execution_count": 32,
   "metadata": {},
   "outputs": [
    {
     "name": "stdout",
     "output_type": "stream",
     "text": [
      "[['Osasuna' 'Darko Brasanac' '1' ... '13.3' '3.2' '1']\n",
      " ['Osasuna' 'Jon Moncayola' '1' ... '28.4' '1.6' '1']\n",
      " ['Osasuna' 'Rubén García' '1' ... '35.4' '5.7' '1']\n",
      " ...\n",
      " ['Osasuna' 'Enric Gallego' '2' ... '14.2' '1.7' '1']\n",
      " ['Atlético de Madrid' 'Jan Oblak' '2' ... '70.2' '5.9' '0']\n",
      " ['Osasuna' 'Lucas Torró' '2' ... '14.0' '6.0' '0']]\n"
     ]
    }
   ],
   "source": [
    "# PASSES\n",
    "\n",
    "passes_x = []\n",
    "passes_y = []\n",
    "passes_outcome = []\n",
    "passes_min = []\n",
    "passes_sec = []\n",
    "passes_period = []\n",
    "passes_team = []\n",
    "passes_x_end = []\n",
    "passes_y_end = []\n",
    "passes_length = []\n",
    "passes_angle = []\n",
    "passes_zone = []\n",
    "pass_real = []\n",
    "pass_player = []\n",
    "\n",
    "for game in games:\n",
    "    for event in game:\n",
    "        \n",
    "        if event.attrib.get(\"type_id\") == '1':\n",
    "            \n",
    "            passes_x.append(event.attrib.get(\"x\"))\n",
    "            passes_y.append(event.attrib.get(\"y\"))\n",
    "            passes_outcome.append(event.attrib.get(\"outcome\"))\n",
    "            passes_min.append(event.attrib.get(\"min\"))\n",
    "            passes_sec.append(event.attrib.get(\"sec\"))\n",
    "            passes_period.append(event.attrib.get(\"period_id\"))\n",
    "            passes_team.append(team_dict[event.attrib.get(\"team_id\")])\n",
    "            pass_player.append(player_dict[event.attrib.get(\"player_id\")])\n",
    "            \n",
    "            for q in event:\n",
    "                \n",
    "                qualifier = q.attrib.get(\"qualifier_id\")\n",
    "                \n",
    "                if qualifier == \"140\":\n",
    "                    passes_x_end.append(q.attrib.get(\"value\"))\n",
    "                if qualifier == \"141\":\n",
    "                    passes_y_end.append(q.attrib.get(\"value\"))\n",
    "                if qualifier == \"212\":\n",
    "                    passes_length.append(q.attrib.get(\"value\"))\n",
    "                if qualifier == \"213\":\n",
    "                    passes_angle.append(q.attrib.get(\"value\"))\n",
    "                if qualifier == \"56\":\n",
    "                    passes_zone.append(q.attrib.get(\"value\"))\n",
    "                    \n",
    "                             \n",
    "passes_df = np.array(list(zip(passes_team, pass_player, passes_period, passes_min, passes_sec, passes_zone, passes_x, \n",
    "                        passes_y, passes_x_end, passes_y_end, passes_length, passes_angle,passes_outcome)))\n",
    "\n",
    "print (passes_df)\n",
    "\n",
    "fieldnames = [\"team\", \"player\", \"period\", \"min\", \"sec\", \"pass zone\", \"x\", \"y\", \"x_end\", \"y_end\",\n",
    "              \"pass length\", \"pass angle\", \"outcome\"]\n",
    "\n",
    "with open(\"pass_data_%s_%s.csv\" % (match_details[\"home_team_name\"], match_details[\"away_team_name\"]),\"w\",newline='') as passes_csv:\n",
    "        csv_file = csv.writer(passes_csv)\n",
    "        csv_file.writerow(fieldnames)\n",
    "        for i in range(len(passes_df)):\n",
    "            csv_file.writerow(passes_df[i])"
   ]
  },
  {
   "cell_type": "code",
   "execution_count": 33,
   "metadata": {},
   "outputs": [
    {
     "data": {
      "text/plain": [
       "array([['Osasuna', 'Darko Brasanac', '1', ..., '13.3', '3.2', '1'],\n",
       "       ['Osasuna', 'Jon Moncayola', '1', ..., '28.4', '1.6', '1'],\n",
       "       ['Osasuna', 'Rubén García', '1', ..., '35.4', '5.7', '1'],\n",
       "       ...,\n",
       "       ['Osasuna', 'Enric Gallego', '2', ..., '14.2', '1.7', '1'],\n",
       "       ['Atlético de Madrid', 'Jan Oblak', '2', ..., '70.2', '5.9', '0'],\n",
       "       ['Osasuna', 'Lucas Torró', '2', ..., '14.0', '6.0', '0']],\n",
       "      dtype='<U18')"
      ]
     },
     "execution_count": 33,
     "metadata": {},
     "output_type": "execute_result"
    }
   ],
   "source": [
    "passes_df"
   ]
  },
  {
   "cell_type": "code",
   "execution_count": 34,
   "metadata": {},
   "outputs": [],
   "source": [
    "passes = pd.DataFrame(passes_df,columns=[\"team\", \"player\", \"period\", \"min\", \"sec\", \"pass zone\", \"x\", \"y\", \"x_end\", \"y_end\",\n",
    "              \"pass length\", \"pass angle\", \"outcome\"])"
   ]
  },
  {
   "cell_type": "code",
   "execution_count": 35,
   "metadata": {},
   "outputs": [],
   "source": [
    "passes['period'] = passes['period'].astype('int64')\n",
    "passes['min'] = passes['min'].astype('int64')\n",
    "passes['sec'] = passes['sec'].astype('int64')\n",
    "passes['x'] = passes['x'].astype('float64')\n",
    "passes['y'] = passes['y'].astype('float64')\n",
    "passes['x_end'] = passes['x_end'].astype('float64')\n",
    "passes['y_end'] = passes['y_end'].astype('float64')\n",
    "passes['pass length'] = passes['pass length'].astype('float64')\n",
    "passes['pass angle'] = passes['pass angle'].astype('float64')\n",
    "passes['outcome'] = passes['outcome'].astype('int64')"
   ]
  },
  {
   "cell_type": "code",
   "execution_count": 36,
   "metadata": {},
   "outputs": [
    {
     "data": {
      "text/plain": [
       "team            object\n",
       "player          object\n",
       "period           int64\n",
       "min              int64\n",
       "sec              int64\n",
       "pass zone       object\n",
       "x              float64\n",
       "y              float64\n",
       "x_end          float64\n",
       "y_end          float64\n",
       "pass length    float64\n",
       "pass angle     float64\n",
       "outcome          int64\n",
       "dtype: object"
      ]
     },
     "execution_count": 36,
     "metadata": {},
     "output_type": "execute_result"
    }
   ],
   "source": [
    "passes.dtypes"
   ]
  },
  {
   "cell_type": "code",
   "execution_count": 37,
   "metadata": {},
   "outputs": [
    {
     "data": {
      "text/html": [
       "<div>\n",
       "<style scoped>\n",
       "    .dataframe tbody tr th:only-of-type {\n",
       "        vertical-align: middle;\n",
       "    }\n",
       "\n",
       "    .dataframe tbody tr th {\n",
       "        vertical-align: top;\n",
       "    }\n",
       "\n",
       "    .dataframe thead th {\n",
       "        text-align: right;\n",
       "    }\n",
       "</style>\n",
       "<table border=\"1\" class=\"dataframe\">\n",
       "  <thead>\n",
       "    <tr style=\"text-align: right;\">\n",
       "      <th></th>\n",
       "      <th>team</th>\n",
       "      <th>player</th>\n",
       "      <th>period</th>\n",
       "      <th>min</th>\n",
       "      <th>sec</th>\n",
       "      <th>pass zone</th>\n",
       "      <th>x</th>\n",
       "      <th>y</th>\n",
       "      <th>x_end</th>\n",
       "      <th>y_end</th>\n",
       "      <th>pass length</th>\n",
       "      <th>pass angle</th>\n",
       "      <th>outcome</th>\n",
       "    </tr>\n",
       "  </thead>\n",
       "  <tbody>\n",
       "    <tr>\n",
       "      <th>0</th>\n",
       "      <td>Osasuna</td>\n",
       "      <td>Darko Brasanac</td>\n",
       "      <td>1</td>\n",
       "      <td>0</td>\n",
       "      <td>0</td>\n",
       "      <td>Back</td>\n",
       "      <td>49.9</td>\n",
       "      <td>50.5</td>\n",
       "      <td>37.2</td>\n",
       "      <td>50.3</td>\n",
       "      <td>13.3</td>\n",
       "      <td>3.2</td>\n",
       "      <td>1</td>\n",
       "    </tr>\n",
       "    <tr>\n",
       "      <th>1</th>\n",
       "      <td>Osasuna</td>\n",
       "      <td>Jon Moncayola</td>\n",
       "      <td>1</td>\n",
       "      <td>0</td>\n",
       "      <td>0</td>\n",
       "      <td>Back</td>\n",
       "      <td>37.4</td>\n",
       "      <td>50.3</td>\n",
       "      <td>36.0</td>\n",
       "      <td>92.0</td>\n",
       "      <td>28.4</td>\n",
       "      <td>1.6</td>\n",
       "      <td>1</td>\n",
       "    </tr>\n",
       "    <tr>\n",
       "      <th>2</th>\n",
       "      <td>Osasuna</td>\n",
       "      <td>Rubén García</td>\n",
       "      <td>1</td>\n",
       "      <td>0</td>\n",
       "      <td>5</td>\n",
       "      <td>Center</td>\n",
       "      <td>36.4</td>\n",
       "      <td>92.0</td>\n",
       "      <td>65.0</td>\n",
       "      <td>64.3</td>\n",
       "      <td>35.4</td>\n",
       "      <td>5.7</td>\n",
       "      <td>1</td>\n",
       "    </tr>\n",
       "    <tr>\n",
       "      <th>3</th>\n",
       "      <td>Osasuna</td>\n",
       "      <td>Ante Budimir</td>\n",
       "      <td>1</td>\n",
       "      <td>0</td>\n",
       "      <td>7</td>\n",
       "      <td>Center</td>\n",
       "      <td>65.0</td>\n",
       "      <td>64.3</td>\n",
       "      <td>58.6</td>\n",
       "      <td>70.0</td>\n",
       "      <td>7.8</td>\n",
       "      <td>2.6</td>\n",
       "      <td>1</td>\n",
       "    </tr>\n",
       "    <tr>\n",
       "      <th>4</th>\n",
       "      <td>Osasuna</td>\n",
       "      <td>Darko Brasanac</td>\n",
       "      <td>1</td>\n",
       "      <td>0</td>\n",
       "      <td>8</td>\n",
       "      <td>Center</td>\n",
       "      <td>58.6</td>\n",
       "      <td>70.0</td>\n",
       "      <td>94.5</td>\n",
       "      <td>75.7</td>\n",
       "      <td>37.9</td>\n",
       "      <td>0.1</td>\n",
       "      <td>0</td>\n",
       "    </tr>\n",
       "    <tr>\n",
       "      <th>5</th>\n",
       "      <td>Atlético de Madrid</td>\n",
       "      <td>Jan Oblak</td>\n",
       "      <td>1</td>\n",
       "      <td>0</td>\n",
       "      <td>16</td>\n",
       "      <td>Back</td>\n",
       "      <td>8.8</td>\n",
       "      <td>32.5</td>\n",
       "      <td>19.3</td>\n",
       "      <td>93.6</td>\n",
       "      <td>43.0</td>\n",
       "      <td>1.3</td>\n",
       "      <td>1</td>\n",
       "    </tr>\n",
       "    <tr>\n",
       "      <th>6</th>\n",
       "      <td>Atlético de Madrid</td>\n",
       "      <td>Mario Hermoso</td>\n",
       "      <td>1</td>\n",
       "      <td>0</td>\n",
       "      <td>20</td>\n",
       "      <td>Back</td>\n",
       "      <td>22.9</td>\n",
       "      <td>94.2</td>\n",
       "      <td>28.9</td>\n",
       "      <td>78.2</td>\n",
       "      <td>12.6</td>\n",
       "      <td>5.2</td>\n",
       "      <td>1</td>\n",
       "    </tr>\n",
       "    <tr>\n",
       "      <th>7</th>\n",
       "      <td>Atlético de Madrid</td>\n",
       "      <td>Koke</td>\n",
       "      <td>1</td>\n",
       "      <td>0</td>\n",
       "      <td>22</td>\n",
       "      <td>Back</td>\n",
       "      <td>29.4</td>\n",
       "      <td>78.0</td>\n",
       "      <td>39.2</td>\n",
       "      <td>95.7</td>\n",
       "      <td>15.8</td>\n",
       "      <td>0.9</td>\n",
       "      <td>1</td>\n",
       "    </tr>\n",
       "    <tr>\n",
       "      <th>8</th>\n",
       "      <td>Atlético de Madrid</td>\n",
       "      <td>Mario Hermoso</td>\n",
       "      <td>1</td>\n",
       "      <td>0</td>\n",
       "      <td>26</td>\n",
       "      <td>Back</td>\n",
       "      <td>42.9</td>\n",
       "      <td>95.7</td>\n",
       "      <td>36.9</td>\n",
       "      <td>86.6</td>\n",
       "      <td>8.8</td>\n",
       "      <td>3.9</td>\n",
       "      <td>1</td>\n",
       "    </tr>\n",
       "    <tr>\n",
       "      <th>9</th>\n",
       "      <td>Atlético de Madrid</td>\n",
       "      <td>Koke</td>\n",
       "      <td>1</td>\n",
       "      <td>0</td>\n",
       "      <td>30</td>\n",
       "      <td>Back</td>\n",
       "      <td>41.7</td>\n",
       "      <td>74.9</td>\n",
       "      <td>34.0</td>\n",
       "      <td>51.0</td>\n",
       "      <td>18.2</td>\n",
       "      <td>4.3</td>\n",
       "      <td>1</td>\n",
       "    </tr>\n",
       "    <tr>\n",
       "      <th>10</th>\n",
       "      <td>Atlético de Madrid</td>\n",
       "      <td>Felipe</td>\n",
       "      <td>1</td>\n",
       "      <td>0</td>\n",
       "      <td>35</td>\n",
       "      <td>Back</td>\n",
       "      <td>37.5</td>\n",
       "      <td>43.6</td>\n",
       "      <td>36.0</td>\n",
       "      <td>64.8</td>\n",
       "      <td>14.5</td>\n",
       "      <td>1.7</td>\n",
       "      <td>1</td>\n",
       "    </tr>\n",
       "    <tr>\n",
       "      <th>11</th>\n",
       "      <td>Atlético de Madrid</td>\n",
       "      <td>Koke</td>\n",
       "      <td>1</td>\n",
       "      <td>0</td>\n",
       "      <td>38</td>\n",
       "      <td>Back</td>\n",
       "      <td>35.7</td>\n",
       "      <td>53.3</td>\n",
       "      <td>32.5</td>\n",
       "      <td>25.3</td>\n",
       "      <td>19.3</td>\n",
       "      <td>4.5</td>\n",
       "      <td>1</td>\n",
       "    </tr>\n",
       "    <tr>\n",
       "      <th>12</th>\n",
       "      <td>Atlético de Madrid</td>\n",
       "      <td>Stefan Savic</td>\n",
       "      <td>1</td>\n",
       "      <td>0</td>\n",
       "      <td>42</td>\n",
       "      <td>Back</td>\n",
       "      <td>32.9</td>\n",
       "      <td>27.4</td>\n",
       "      <td>32.1</td>\n",
       "      <td>77.6</td>\n",
       "      <td>34.1</td>\n",
       "      <td>1.6</td>\n",
       "      <td>1</td>\n",
       "    </tr>\n",
       "    <tr>\n",
       "      <th>13</th>\n",
       "      <td>Atlético de Madrid</td>\n",
       "      <td>Mario Hermoso</td>\n",
       "      <td>1</td>\n",
       "      <td>0</td>\n",
       "      <td>51</td>\n",
       "      <td>Back</td>\n",
       "      <td>39.6</td>\n",
       "      <td>84.2</td>\n",
       "      <td>46.8</td>\n",
       "      <td>97.5</td>\n",
       "      <td>11.8</td>\n",
       "      <td>0.9</td>\n",
       "      <td>1</td>\n",
       "    </tr>\n",
       "    <tr>\n",
       "      <th>14</th>\n",
       "      <td>Atlético de Madrid</td>\n",
       "      <td>Yannick Carrasco</td>\n",
       "      <td>1</td>\n",
       "      <td>0</td>\n",
       "      <td>51</td>\n",
       "      <td>Back</td>\n",
       "      <td>45.5</td>\n",
       "      <td>97.4</td>\n",
       "      <td>33.6</td>\n",
       "      <td>87.6</td>\n",
       "      <td>14.2</td>\n",
       "      <td>3.6</td>\n",
       "      <td>1</td>\n",
       "    </tr>\n",
       "  </tbody>\n",
       "</table>\n",
       "</div>"
      ],
      "text/plain": [
       "                  team            player  period  min  sec pass zone     x  \\\n",
       "0              Osasuna    Darko Brasanac       1    0    0      Back  49.9   \n",
       "1              Osasuna     Jon Moncayola       1    0    0      Back  37.4   \n",
       "2              Osasuna      Rubén García       1    0    5    Center  36.4   \n",
       "3              Osasuna      Ante Budimir       1    0    7    Center  65.0   \n",
       "4              Osasuna    Darko Brasanac       1    0    8    Center  58.6   \n",
       "5   Atlético de Madrid         Jan Oblak       1    0   16      Back   8.8   \n",
       "6   Atlético de Madrid     Mario Hermoso       1    0   20      Back  22.9   \n",
       "7   Atlético de Madrid              Koke       1    0   22      Back  29.4   \n",
       "8   Atlético de Madrid     Mario Hermoso       1    0   26      Back  42.9   \n",
       "9   Atlético de Madrid              Koke       1    0   30      Back  41.7   \n",
       "10  Atlético de Madrid            Felipe       1    0   35      Back  37.5   \n",
       "11  Atlético de Madrid              Koke       1    0   38      Back  35.7   \n",
       "12  Atlético de Madrid      Stefan Savic       1    0   42      Back  32.9   \n",
       "13  Atlético de Madrid     Mario Hermoso       1    0   51      Back  39.6   \n",
       "14  Atlético de Madrid  Yannick Carrasco       1    0   51      Back  45.5   \n",
       "\n",
       "       y  x_end  y_end  pass length  pass angle  outcome  \n",
       "0   50.5   37.2   50.3         13.3         3.2        1  \n",
       "1   50.3   36.0   92.0         28.4         1.6        1  \n",
       "2   92.0   65.0   64.3         35.4         5.7        1  \n",
       "3   64.3   58.6   70.0          7.8         2.6        1  \n",
       "4   70.0   94.5   75.7         37.9         0.1        0  \n",
       "5   32.5   19.3   93.6         43.0         1.3        1  \n",
       "6   94.2   28.9   78.2         12.6         5.2        1  \n",
       "7   78.0   39.2   95.7         15.8         0.9        1  \n",
       "8   95.7   36.9   86.6          8.8         3.9        1  \n",
       "9   74.9   34.0   51.0         18.2         4.3        1  \n",
       "10  43.6   36.0   64.8         14.5         1.7        1  \n",
       "11  53.3   32.5   25.3         19.3         4.5        1  \n",
       "12  27.4   32.1   77.6         34.1         1.6        1  \n",
       "13  84.2   46.8   97.5         11.8         0.9        1  \n",
       "14  97.4   33.6   87.6         14.2         3.6        1  "
      ]
     },
     "execution_count": 37,
     "metadata": {},
     "output_type": "execute_result"
    }
   ],
   "source": [
    "passes.head(15)"
   ]
  },
  {
   "cell_type": "markdown",
   "metadata": {},
   "source": [
    "Filtramos los pases de un jugador"
   ]
  },
  {
   "cell_type": "code",
   "execution_count": 38,
   "metadata": {},
   "outputs": [
    {
     "data": {
      "text/html": [
       "<div>\n",
       "<style scoped>\n",
       "    .dataframe tbody tr th:only-of-type {\n",
       "        vertical-align: middle;\n",
       "    }\n",
       "\n",
       "    .dataframe tbody tr th {\n",
       "        vertical-align: top;\n",
       "    }\n",
       "\n",
       "    .dataframe thead th {\n",
       "        text-align: right;\n",
       "    }\n",
       "</style>\n",
       "<table border=\"1\" class=\"dataframe\">\n",
       "  <thead>\n",
       "    <tr style=\"text-align: right;\">\n",
       "      <th></th>\n",
       "      <th>index</th>\n",
       "      <th>team</th>\n",
       "      <th>player</th>\n",
       "      <th>period</th>\n",
       "      <th>min</th>\n",
       "      <th>sec</th>\n",
       "      <th>pass zone</th>\n",
       "      <th>x</th>\n",
       "      <th>y</th>\n",
       "      <th>x_end</th>\n",
       "      <th>y_end</th>\n",
       "      <th>pass length</th>\n",
       "      <th>pass angle</th>\n",
       "      <th>outcome</th>\n",
       "    </tr>\n",
       "  </thead>\n",
       "  <tbody>\n",
       "    <tr>\n",
       "      <th>0</th>\n",
       "      <td>14</td>\n",
       "      <td>Atlético de Madrid</td>\n",
       "      <td>Yannick Carrasco</td>\n",
       "      <td>1</td>\n",
       "      <td>0</td>\n",
       "      <td>51</td>\n",
       "      <td>Back</td>\n",
       "      <td>45.5</td>\n",
       "      <td>97.4</td>\n",
       "      <td>33.6</td>\n",
       "      <td>87.6</td>\n",
       "      <td>14.2</td>\n",
       "      <td>3.6</td>\n",
       "      <td>1</td>\n",
       "    </tr>\n",
       "    <tr>\n",
       "      <th>1</th>\n",
       "      <td>23</td>\n",
       "      <td>Atlético de Madrid</td>\n",
       "      <td>Yannick Carrasco</td>\n",
       "      <td>1</td>\n",
       "      <td>1</td>\n",
       "      <td>35</td>\n",
       "      <td>Center</td>\n",
       "      <td>45.9</td>\n",
       "      <td>73.5</td>\n",
       "      <td>54.5</td>\n",
       "      <td>71.0</td>\n",
       "      <td>9.2</td>\n",
       "      <td>6.1</td>\n",
       "      <td>1</td>\n",
       "    </tr>\n",
       "    <tr>\n",
       "      <th>2</th>\n",
       "      <td>32</td>\n",
       "      <td>Atlético de Madrid</td>\n",
       "      <td>Yannick Carrasco</td>\n",
       "      <td>1</td>\n",
       "      <td>1</td>\n",
       "      <td>57</td>\n",
       "      <td>Center</td>\n",
       "      <td>62.0</td>\n",
       "      <td>55.2</td>\n",
       "      <td>71.6</td>\n",
       "      <td>57.5</td>\n",
       "      <td>10.2</td>\n",
       "      <td>0.2</td>\n",
       "      <td>1</td>\n",
       "    </tr>\n",
       "    <tr>\n",
       "      <th>3</th>\n",
       "      <td>36</td>\n",
       "      <td>Atlético de Madrid</td>\n",
       "      <td>Yannick Carrasco</td>\n",
       "      <td>1</td>\n",
       "      <td>2</td>\n",
       "      <td>13</td>\n",
       "      <td>Center</td>\n",
       "      <td>94.6</td>\n",
       "      <td>74.6</td>\n",
       "      <td>86.2</td>\n",
       "      <td>54.4</td>\n",
       "      <td>16.3</td>\n",
       "      <td>4.1</td>\n",
       "      <td>0</td>\n",
       "    </tr>\n",
       "    <tr>\n",
       "      <th>4</th>\n",
       "      <td>47</td>\n",
       "      <td>Atlético de Madrid</td>\n",
       "      <td>Yannick Carrasco</td>\n",
       "      <td>1</td>\n",
       "      <td>3</td>\n",
       "      <td>11</td>\n",
       "      <td>Left</td>\n",
       "      <td>52.7</td>\n",
       "      <td>77.7</td>\n",
       "      <td>50.9</td>\n",
       "      <td>96.5</td>\n",
       "      <td>12.9</td>\n",
       "      <td>1.7</td>\n",
       "      <td>1</td>\n",
       "    </tr>\n",
       "  </tbody>\n",
       "</table>\n",
       "</div>"
      ],
      "text/plain": [
       "   index                team            player  period  min  sec pass zone  \\\n",
       "0     14  Atlético de Madrid  Yannick Carrasco       1    0   51      Back   \n",
       "1     23  Atlético de Madrid  Yannick Carrasco       1    1   35    Center   \n",
       "2     32  Atlético de Madrid  Yannick Carrasco       1    1   57    Center   \n",
       "3     36  Atlético de Madrid  Yannick Carrasco       1    2   13    Center   \n",
       "4     47  Atlético de Madrid  Yannick Carrasco       1    3   11      Left   \n",
       "\n",
       "      x     y  x_end  y_end  pass length  pass angle  outcome  \n",
       "0  45.5  97.4   33.6   87.6         14.2         3.6        1  \n",
       "1  45.9  73.5   54.5   71.0          9.2         6.1        1  \n",
       "2  62.0  55.2   71.6   57.5         10.2         0.2        1  \n",
       "3  94.6  74.6   86.2   54.4         16.3         4.1        0  \n",
       "4  52.7  77.7   50.9   96.5         12.9         1.7        1  "
      ]
     },
     "execution_count": 38,
     "metadata": {},
     "output_type": "execute_result"
    }
   ],
   "source": [
    "pasesJugador= passes.loc[passes['player'] == \"Yannick Carrasco\"]\n",
    "\n",
    "pasesJugador= pasesJugador.reset_index()\n",
    "\n",
    "pasesJugador.head()"
   ]
  },
  {
   "cell_type": "code",
   "execution_count": null,
   "metadata": {},
   "outputs": [],
   "source": []
  },
  {
   "cell_type": "code",
   "execution_count": 61,
   "metadata": {},
   "outputs": [
    {
     "data": {
      "image/png": "[encoded data removed]",
      "text/plain": [
       "<Figure size 864x648 with 1 Axes>"
      ]
     },
     "metadata": {
      "needs_background": "light"
     },
     "output_type": "display_data"
    }
   ],
   "source": [
    "fig=plt.figure()\n",
    "fig.set_size_inches(12, 9) # Cambiar aqui el tamaño (Ancho, Alto)\n",
    "ax=fig.add_subplot(1,1,1)\n",
    "\n",
    "titulo = \"Yannick Carrasco' pass chart\"\n",
    "plt.title(titulo + \" | \" + match_details[\"home_team_name\"] + ' vs ' + match_details[\"away_team_name\"] +' | '+ match_details[\"season_name\"])\n",
    "\n",
    "# Pitch Outline & Centre Line OK\n",
    "plt.plot([0,0],[0,100], color=\"black\")\n",
    "plt.plot([0,100],[100,100], color=\"black\") #upper line x_start x_end y_start y_end\n",
    "plt.plot([100,100],[100,0], color=\"black\")\n",
    "plt.plot([100,0],[0,0], color=\"black\")\n",
    "plt.plot([50,50],[0,100], color=\"black\")\n",
    "\n",
    "# Left Penalty Area OK\n",
    "plt.plot([17,17],[78.9,21.1],color=\"black\")\n",
    "plt.plot([0,17],[78.9,78.9],color=\"black\")\n",
    "plt.plot([17,0],[21.1,21.1],color=\"black\")\n",
    "\n",
    "# Right Penalty Area OK\n",
    "plt.plot([100,83],[78.9,78.9],color=\"black\")\n",
    "plt.plot([83,83],[78.9,21.1],color=\"black\")\n",
    "plt.plot([83,100],[21.1,21.1],color=\"black\")\n",
    "\n",
    "# Left 6-yard Box on testing\n",
    "plt.plot([0,5.8],[63.2,63.2],color=\"black\")\n",
    "plt.plot([5.8,5.8],[63.2,36.8],color=\"black\")\n",
    "plt.plot([5.8,0],[36.8,36.8],color=\"black\")\n",
    "\n",
    "# Right 6-yard Box on testing\n",
    "plt.plot([100,94.2],[63.2,63.2],color=\"black\")\n",
    "plt.plot([94.2,94.2],[63.2,36.8],color=\"black\")\n",
    "plt.plot([94.2,100],[36.8,36.8],color=\"black\")\n",
    "\n",
    "# Prepare Circles OK\n",
    "centreCircle = plt.Circle((50,50),9.15,color=\"black\",fill=False)\n",
    "centreSpot = plt.Circle((50,50),0.7,color=\"black\")\n",
    "leftPenSpot = plt.Circle((11.5,50),0.7,color=\"black\")\n",
    "rightPenSpot = plt.Circle((88.5,50),0.7,color=\"black\")\n",
    "\n",
    "# Draw Circles\n",
    "ax.add_patch(centreCircle)\n",
    "ax.add_patch(centreSpot)\n",
    "ax.add_patch(leftPenSpot)\n",
    "ax.add_patch(rightPenSpot)\n",
    "\n",
    "# Prepare Arcs based on penalty Spots \n",
    "leftArc = Arc((11.5,50),height=18.3,width=18.3,angle=0,theta1=310,theta2=50,color=\"black\")\n",
    "rightArc = Arc((88.5,50),height=18.3,width=18.3,angle=0,theta1=130,theta2=230,color=\"black\")\n",
    "\n",
    "# leftArc = Arc((17,50),height=18.3,width=18.3,angle=0,theta1=310,theta2=50,color=\"blue\")\n",
    "# rightArc = Arc((83,50),height=18.3,width=18.3,angle=0,theta1=130,theta2=230,color=\"red\")\n",
    "\n",
    "# Draw Arcs\n",
    "ax.add_patch(leftArc)\n",
    "ax.add_patch(rightArc)\n",
    "\n",
    "# Tidy Axes\n",
    "plt.axis('off')\n",
    "\n",
    "####################\n",
    "# PLOT PASSES\n",
    "####################\n",
    "\n",
    "for i in range(len(pasesJugador)):\n",
    "    color = \"green\" if pasesJugador.iloc[i]['outcome'] == 1 else \"red\"\n",
    "    plt.plot([int(pasesJugador[\"x\"][i]),int(pasesJugador[\"x_end\"][i])],\n",
    "             [int(pasesJugador[\"y\"][i]),int(pasesJugador[\"y_end\"][i])], color=color)\n",
    "    plt.plot(int(pasesJugador[\"x\"][i]),int(pasesJugador[\"y\"][i]),\"o\", color=color)\n",
    "\n",
    "plt.savefig(titulo)\n",
    "plt.show()\n"
   ]
  },
  {
   "cell_type": "code",
   "execution_count": 65,
   "metadata": {},
   "outputs": [
    {
     "name": "stdout",
     "output_type": "stream",
     "text": [
      "PASES SEGÚN LA ZONA DONDE SE REALIZARON:\n",
      "{'Back': 7, 'Center': 34, 'Left': 17, 'Right': 2}\n"
     ]
    }
   ],
   "source": [
    "#EXTRA: Obteniendo numero de pases por cada zona del campo\n",
    "zonas = list(pasesJugador['pass zone'].unique())\n",
    "\n",
    "npasesXzone = []\n",
    "for zona in zonas:\n",
    "    pxz = len(pasesJugador.loc[pasesJugador['pass zone'] == zona])\n",
    "    npasesXzone.append(pxz)\n",
    "\n",
    "zone_npass = dict(zip(zonas,npasesXzone))\n",
    "\n",
    "print('PASES SEGÚN LA ZONA DONDE SE REALIZARON:')\n",
    "print(zone_npass)"
   ]
  },
  {
   "cell_type": "code",
   "execution_count": 58,
   "metadata": {},
   "outputs": [
    {
     "data": {
      "text/plain": [
       "str"
      ]
     },
     "execution_count": 58,
     "metadata": {},
     "output_type": "execute_result"
    }
   ],
   "source": [
    "type(titulo)"
   ]
  },
  {
   "cell_type": "code",
   "execution_count": null,
   "metadata": {},
   "outputs": [],
   "source": []
  }
 ],
 "metadata": {
  "anaconda-cloud": {},
  "kernelspec": {
   "display_name": "Python 3 (ipykernel)",
   "language": "python",
   "name": "python3"
  },
  "language_info": {
   "codemirror_mode": {
    "name": "ipython",
    "version": 3
   },
   "file_extension": ".py",
   "mimetype": "text/x-python",
   "name": "python",
   "nbconvert_exporter": "python",
   "pygments_lexer": "ipython3",
   "version": "3.9.13"
  }
 },
 "nbformat": 4,
 "nbformat_minor": 1
}
