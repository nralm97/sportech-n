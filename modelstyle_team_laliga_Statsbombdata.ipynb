{
  "cells": [
    {
      "cell_type": "markdown",
      "id": "9d6eac1f",
      "metadata": {
        "id": "9d6eac1f"
      },
      "source": [
        "## MODELO DE JUEGO A PARTIR DE EVENTOS Y MAPAS DE CALOR DE ESTOS"
      ]
    },
    {
      "cell_type": "markdown",
      "id": "abdea788",
      "metadata": {
        "id": "abdea788"
      },
      "source": [
        "**Objetivos:**\n",
        "\n",
        "    "
      ]
    },
    {
      "cell_type": "markdown",
      "id": "f1f4ae93",
      "metadata": {
        "id": "f1f4ae93"
      },
      "source": [
        "**Datos:**\n",
        "Statsbomb liberó los eventos de todos los partidos de LaLiga 2015/2016 (380 partidos). Esto fue de gran ayuda puesto que tenemos 20 partidos por equipo; lo cual permite identificar mejor el modelo de juego de estos."
      ]
    },
    {
      "cell_type": "markdown",
      "source": [
        "## 0. PRE REQUERIMIENTOS"
      ],
      "metadata": {
        "id": "z3yJPpySDnRl"
      },
      "id": "z3yJPpySDnRl"
    },
    {
      "cell_type": "code",
      "source": [
        "!pip install mplsoccer\n",
        "!pip install scikit-learn\n",
        "!pip install statsbombpy"
      ],
      "metadata": {
        "colab": {
          "base_uri": "https://localhost:8080/"
        },
        "id": "MLLFa761LZMU",
        "outputId": "af302c49-507b-424a-a8a2-8dde36531657"
      },
      "id": "MLLFa761LZMU",
      "execution_count": null,
      "outputs": [
        {
          "output_type": "stream",
          "name": "stdout",
          "text": [
            "Collecting mplsoccer\n",
            "  Downloading mplsoccer-1.1.12-py3-none-any.whl (68 kB)\n",
            "\u001b[?25l     \u001b[90m━━━━━━━━━━━━━━━━━━━━━━━━━━━━━━━━━━━━━━━━\u001b[0m \u001b[32m0.0/68.1 kB\u001b[0m \u001b[31m?\u001b[0m eta \u001b[36m-:--:--\u001b[0m\r\u001b[2K     \u001b[90m━━━━━━━━━━━━━━━━━━━━━━━━━━━━━━━━━━━━━━━━\u001b[0m \u001b[32m68.1/68.1 kB\u001b[0m \u001b[31m4.8 MB/s\u001b[0m eta \u001b[36m0:00:00\u001b[0m\n",
            "\u001b[?25hRequirement already satisfied: matplotlib in /usr/local/lib/python3.10/dist-packages (from mplsoccer) (3.7.1)\n",
            "Requirement already satisfied: numpy in /usr/local/lib/python3.10/dist-packages (from mplsoccer) (1.22.4)\n",
            "Requirement already satisfied: pandas in /usr/local/lib/python3.10/dist-packages (from mplsoccer) (1.5.3)\n",
            "Requirement already satisfied: pillow in /usr/local/lib/python3.10/dist-packages (from mplsoccer) (8.4.0)\n",
            "Requirement already satisfied: requests in /usr/local/lib/python3.10/dist-packages (from mplsoccer) (2.27.1)\n",
            "Requirement already satisfied: scipy in /usr/local/lib/python3.10/dist-packages (from mplsoccer) (1.10.1)\n",
            "Requirement already satisfied: seaborn in /usr/local/lib/python3.10/dist-packages (from mplsoccer) (0.12.2)\n",
            "Requirement already satisfied: contourpy>=1.0.1 in /usr/local/lib/python3.10/dist-packages (from matplotlib->mplsoccer) (1.1.0)\n",
            "Requirement already satisfied: cycler>=0.10 in /usr/local/lib/python3.10/dist-packages (from matplotlib->mplsoccer) (0.11.0)\n",
            "Requirement already satisfied: fonttools>=4.22.0 in /usr/local/lib/python3.10/dist-packages (from matplotlib->mplsoccer) (4.40.0)\n",
            "Requirement already satisfied: kiwisolver>=1.0.1 in /usr/local/lib/python3.10/dist-packages (from matplotlib->mplsoccer) (1.4.4)\n",
            "Requirement already satisfied: packaging>=20.0 in /usr/local/lib/python3.10/dist-packages (from matplotlib->mplsoccer) (23.1)\n",
            "Requirement already satisfied: pyparsing>=2.3.1 in /usr/local/lib/python3.10/dist-packages (from matplotlib->mplsoccer) (3.1.0)\n",
            "Requirement already satisfied: python-dateutil>=2.7 in /usr/local/lib/python3.10/dist-packages (from matplotlib->mplsoccer) (2.8.2)\n",
            "Requirement already satisfied: pytz>=2020.1 in /usr/local/lib/python3.10/dist-packages (from pandas->mplsoccer) (2022.7.1)\n",
            "Requirement already satisfied: urllib3<1.27,>=1.21.1 in /usr/local/lib/python3.10/dist-packages (from requests->mplsoccer) (1.26.16)\n",
            "Requirement already satisfied: certifi>=2017.4.17 in /usr/local/lib/python3.10/dist-packages (from requests->mplsoccer) (2023.5.7)\n",
            "Requirement already satisfied: charset-normalizer~=2.0.0 in /usr/local/lib/python3.10/dist-packages (from requests->mplsoccer) (2.0.12)\n",
            "Requirement already satisfied: idna<4,>=2.5 in /usr/local/lib/python3.10/dist-packages (from requests->mplsoccer) (3.4)\n",
            "Requirement already satisfied: six>=1.5 in /usr/local/lib/python3.10/dist-packages (from python-dateutil>=2.7->matplotlib->mplsoccer) (1.16.0)\n",
            "Installing collected packages: mplsoccer\n",
            "Successfully installed mplsoccer-1.1.12\n",
            "Requirement already satisfied: scikit-learn in /usr/local/lib/python3.10/dist-packages (1.2.2)\n",
            "Requirement already satisfied: numpy>=1.17.3 in /usr/local/lib/python3.10/dist-packages (from scikit-learn) (1.22.4)\n",
            "Requirement already satisfied: scipy>=1.3.2 in /usr/local/lib/python3.10/dist-packages (from scikit-learn) (1.10.1)\n",
            "Requirement already satisfied: joblib>=1.1.1 in /usr/local/lib/python3.10/dist-packages (from scikit-learn) (1.3.1)\n",
            "Requirement already satisfied: threadpoolctl>=2.0.0 in /usr/local/lib/python3.10/dist-packages (from scikit-learn) (3.1.0)\n",
            "Collecting statsbombpy\n",
            "  Downloading statsbombpy-1.10.1-py3-none-any.whl (16 kB)\n",
            "Requirement already satisfied: pandas in /usr/local/lib/python3.10/dist-packages (from statsbombpy) (1.5.3)\n",
            "Requirement already satisfied: requests in /usr/local/lib/python3.10/dist-packages (from statsbombpy) (2.27.1)\n",
            "Collecting requests-cache (from statsbombpy)\n",
            "  Downloading requests_cache-1.1.0-py3-none-any.whl (60 kB)\n",
            "\u001b[2K     \u001b[90m━━━━━━━━━━━━━━━━━━━━━━━━━━━━━━━━━━━━━━━━\u001b[0m \u001b[32m60.1/60.1 kB\u001b[0m \u001b[31m4.6 MB/s\u001b[0m eta \u001b[36m0:00:00\u001b[0m\n",
            "\u001b[?25hRequirement already satisfied: inflect in /usr/local/lib/python3.10/dist-packages (from statsbombpy) (6.0.5)\n",
            "Requirement already satisfied: joblib in /usr/local/lib/python3.10/dist-packages (from statsbombpy) (1.3.1)\n",
            "Requirement already satisfied: pydantic<2,>=1.9.1 in /usr/local/lib/python3.10/dist-packages (from inflect->statsbombpy) (1.10.11)\n",
            "Requirement already satisfied: python-dateutil>=2.8.1 in /usr/local/lib/python3.10/dist-packages (from pandas->statsbombpy) (2.8.2)\n",
            "Requirement already satisfied: pytz>=2020.1 in /usr/local/lib/python3.10/dist-packages (from pandas->statsbombpy) (2022.7.1)\n",
            "Requirement already satisfied: numpy>=1.21.0 in /usr/local/lib/python3.10/dist-packages (from pandas->statsbombpy) (1.22.4)\n",
            "Requirement already satisfied: urllib3<1.27,>=1.21.1 in /usr/local/lib/python3.10/dist-packages (from requests->statsbombpy) (1.26.16)\n",
            "Requirement already satisfied: certifi>=2017.4.17 in /usr/local/lib/python3.10/dist-packages (from requests->statsbombpy) (2023.5.7)\n",
            "Requirement already satisfied: charset-normalizer~=2.0.0 in /usr/local/lib/python3.10/dist-packages (from requests->statsbombpy) (2.0.12)\n",
            "Requirement already satisfied: idna<4,>=2.5 in /usr/local/lib/python3.10/dist-packages (from requests->statsbombpy) (3.4)\n",
            "Requirement already satisfied: attrs>=21.2 in /usr/local/lib/python3.10/dist-packages (from requests-cache->statsbombpy) (23.1.0)\n",
            "Collecting cattrs>=22.2 (from requests-cache->statsbombpy)\n",
            "  Downloading cattrs-23.1.2-py3-none-any.whl (50 kB)\n",
            "\u001b[2K     \u001b[90m━━━━━━━━━━━━━━━━━━━━━━━━━━━━━━━━━━━━━━━━\u001b[0m \u001b[32m50.8/50.8 kB\u001b[0m \u001b[31m5.8 MB/s\u001b[0m eta \u001b[36m0:00:00\u001b[0m\n",
            "\u001b[?25hRequirement already satisfied: platformdirs>=2.5 in /usr/local/lib/python3.10/dist-packages (from requests-cache->statsbombpy) (3.8.1)\n",
            "Collecting url-normalize>=1.4 (from requests-cache->statsbombpy)\n",
            "  Downloading url_normalize-1.4.3-py2.py3-none-any.whl (6.8 kB)\n",
            "Requirement already satisfied: exceptiongroup in /usr/local/lib/python3.10/dist-packages (from cattrs>=22.2->requests-cache->statsbombpy) (1.1.2)\n",
            "Requirement already satisfied: typing_extensions>=4.1.0 in /usr/local/lib/python3.10/dist-packages (from cattrs>=22.2->requests-cache->statsbombpy) (4.7.1)\n",
            "Requirement already satisfied: six>=1.5 in /usr/local/lib/python3.10/dist-packages (from python-dateutil>=2.8.1->pandas->statsbombpy) (1.16.0)\n",
            "Installing collected packages: url-normalize, cattrs, requests-cache, statsbombpy\n",
            "Successfully installed cattrs-23.1.2 requests-cache-1.1.0 statsbombpy-1.10.1 url-normalize-1.4.3\n"
          ]
        }
      ]
    },
    {
      "cell_type": "code",
      "execution_count": null,
      "id": "7af37d8c",
      "metadata": {
        "id": "7af37d8c"
      },
      "outputs": [],
      "source": [
        "import matplotlib.patheffects as path_effects\n",
        "import matplotlib.pyplot as plt\n",
        "import numpy as np\n",
        "import pandas as pd\n",
        "from matplotlib.colors import LinearSegmentedColormap\n",
        "from scipy.ndimage import gaussian_filter\n",
        "from mplsoccer import Pitch, VerticalPitch, FontManager, Sbopen\n",
        "from statsbombpy import sb\n",
        "from itertools import chain"
      ]
    },
    {
      "cell_type": "code",
      "source": [
        "from google.colab import drive\n",
        "drive.mount('/content/drive')"
      ],
      "metadata": {
        "colab": {
          "base_uri": "https://localhost:8080/"
        },
        "id": "XbYEbmVkD0av",
        "outputId": "fa160d4c-2e81-4015-94e6-d5cd43cb398d"
      },
      "id": "XbYEbmVkD0av",
      "execution_count": null,
      "outputs": [
        {
          "output_type": "stream",
          "name": "stdout",
          "text": [
            "Mounted at /content/drive\n"
          ]
        }
      ]
    },
    {
      "cell_type": "markdown",
      "id": "8aca6d09",
      "metadata": {
        "id": "8aca6d09"
      },
      "source": [
        "## 1. LECTURA DE DATOS"
      ]
    },
    {
      "cell_type": "code",
      "execution_count": null,
      "id": "a842fd99",
      "metadata": {
        "colab": {
          "base_uri": "https://localhost:8080/"
        },
        "id": "a842fd99",
        "outputId": "a7d850cb-5a93-4eae-b712-32a8ec5e50b3"
      },
      "outputs": [
        {
          "output_type": "execute_result",
          "data": {
            "text/plain": [
              "     match_id  match_date      kick_off      competition     season  \\\n",
              "377    266490  2015-09-20  20:30:00.000  Spain - La Liga  2015/2016   \n",
              "378    266254  2016-02-14  21:30:00.000  Spain - La Liga  2015/2016   \n",
              "379    266557  2016-04-17  20:30:00.000  Spain - La Liga  2015/2016   \n",
              "\n",
              "     home_team   away_team  home_score  away_score match_status  ...  \\\n",
              "377  Barcelona  Levante UD           4           1    available  ...   \n",
              "378  Barcelona  Celta Vigo           6           1    available  ...   \n",
              "379  Barcelona    Valencia           1           2    available  ...   \n",
              "\n",
              "            last_updated_360 match_week competition_stage           stadium  \\\n",
              "377  2021-06-13T16:17:31.694          4    Regular Season  Spotify Camp Nou   \n",
              "378  2021-06-13T16:17:31.694         24    Regular Season  Spotify Camp Nou   \n",
              "379  2021-06-13T16:17:31.694         33    Regular Season  Spotify Camp Nou   \n",
              "\n",
              "                      referee                 home_managers  \\\n",
              "377  David Fernández Borbalan  Luis Enrique Martínez García   \n",
              "378                       NaN  Luis Enrique Martínez García   \n",
              "379  David Fernández Borbalan  Luis Enrique Martínez García   \n",
              "\n",
              "                              away_managers data_version  \\\n",
              "377             Luis Lucas Alcaraz González        1.1.0   \n",
              "378                  Manuel Eduardo Berizzo        1.1.0   \n",
              "379  Francisco Martín Ayestarán Barandiarán        1.1.0   \n",
              "\n",
              "    shot_fidelity_version xy_fidelity_version  \n",
              "377                     2                   2  \n",
              "378                     2                   2  \n",
              "379                     2                   2  \n",
              "\n",
              "[3 rows x 22 columns]"
            ],
            "text/html": [
              "\n",
              "\n",
              "  <div id=\"df-df5cef79-9f9f-4122-843b-3ebd091b85d4\">\n",
              "    <div class=\"colab-df-container\">\n",
              "      <div>\n",
              "<style scoped>\n",
              "    .dataframe tbody tr th:only-of-type {\n",
              "        vertical-align: middle;\n",
              "    }\n",
              "\n",
              "    .dataframe tbody tr th {\n",
              "        vertical-align: top;\n",
              "    }\n",
              "\n",
              "    .dataframe thead th {\n",
              "        text-align: right;\n",
              "    }\n",
              "</style>\n",
              "<table border=\"1\" class=\"dataframe\">\n",
              "  <thead>\n",
              "    <tr style=\"text-align: right;\">\n",
              "      <th></th>\n",
              "      <th>match_id</th>\n",
              "      <th>match_date</th>\n",
              "      <th>kick_off</th>\n",
              "      <th>competition</th>\n",
              "      <th>season</th>\n",
              "      <th>home_team</th>\n",
              "      <th>away_team</th>\n",
              "      <th>home_score</th>\n",
              "      <th>away_score</th>\n",
              "      <th>match_status</th>\n",
              "      <th>...</th>\n",
              "      <th>last_updated_360</th>\n",
              "      <th>match_week</th>\n",
              "      <th>competition_stage</th>\n",
              "      <th>stadium</th>\n",
              "      <th>referee</th>\n",
              "      <th>home_managers</th>\n",
              "      <th>away_managers</th>\n",
              "      <th>data_version</th>\n",
              "      <th>shot_fidelity_version</th>\n",
              "      <th>xy_fidelity_version</th>\n",
              "    </tr>\n",
              "  </thead>\n",
              "  <tbody>\n",
              "    <tr>\n",
              "      <th>377</th>\n",
              "      <td>266490</td>\n",
              "      <td>2015-09-20</td>\n",
              "      <td>20:30:00.000</td>\n",
              "      <td>Spain - La Liga</td>\n",
              "      <td>2015/2016</td>\n",
              "      <td>Barcelona</td>\n",
              "      <td>Levante UD</td>\n",
              "      <td>4</td>\n",
              "      <td>1</td>\n",
              "      <td>available</td>\n",
              "      <td>...</td>\n",
              "      <td>2021-06-13T16:17:31.694</td>\n",
              "      <td>4</td>\n",
              "      <td>Regular Season</td>\n",
              "      <td>Spotify Camp Nou</td>\n",
              "      <td>David Fernández Borbalan</td>\n",
              "      <td>Luis Enrique Martínez García</td>\n",
              "      <td>Luis Lucas Alcaraz González</td>\n",
              "      <td>1.1.0</td>\n",
              "      <td>2</td>\n",
              "      <td>2</td>\n",
              "    </tr>\n",
              "    <tr>\n",
              "      <th>378</th>\n",
              "      <td>266254</td>\n",
              "      <td>2016-02-14</td>\n",
              "      <td>21:30:00.000</td>\n",
              "      <td>Spain - La Liga</td>\n",
              "      <td>2015/2016</td>\n",
              "      <td>Barcelona</td>\n",
              "      <td>Celta Vigo</td>\n",
              "      <td>6</td>\n",
              "      <td>1</td>\n",
              "      <td>available</td>\n",
              "      <td>...</td>\n",
              "      <td>2021-06-13T16:17:31.694</td>\n",
              "      <td>24</td>\n",
              "      <td>Regular Season</td>\n",
              "      <td>Spotify Camp Nou</td>\n",
              "      <td>NaN</td>\n",
              "      <td>Luis Enrique Martínez García</td>\n",
              "      <td>Manuel Eduardo Berizzo</td>\n",
              "      <td>1.1.0</td>\n",
              "      <td>2</td>\n",
              "      <td>2</td>\n",
              "    </tr>\n",
              "    <tr>\n",
              "      <th>379</th>\n",
              "      <td>266557</td>\n",
              "      <td>2016-04-17</td>\n",
              "      <td>20:30:00.000</td>\n",
              "      <td>Spain - La Liga</td>\n",
              "      <td>2015/2016</td>\n",
              "      <td>Barcelona</td>\n",
              "      <td>Valencia</td>\n",
              "      <td>1</td>\n",
              "      <td>2</td>\n",
              "      <td>available</td>\n",
              "      <td>...</td>\n",
              "      <td>2021-06-13T16:17:31.694</td>\n",
              "      <td>33</td>\n",
              "      <td>Regular Season</td>\n",
              "      <td>Spotify Camp Nou</td>\n",
              "      <td>David Fernández Borbalan</td>\n",
              "      <td>Luis Enrique Martínez García</td>\n",
              "      <td>Francisco Martín Ayestarán Barandiarán</td>\n",
              "      <td>1.1.0</td>\n",
              "      <td>2</td>\n",
              "      <td>2</td>\n",
              "    </tr>\n",
              "  </tbody>\n",
              "</table>\n",
              "<p>3 rows × 22 columns</p>\n",
              "</div>\n",
              "      <button class=\"colab-df-convert\" onclick=\"convertToInteractive('df-df5cef79-9f9f-4122-843b-3ebd091b85d4')\"\n",
              "              title=\"Convert this dataframe to an interactive table.\"\n",
              "              style=\"display:none;\">\n",
              "\n",
              "  <svg xmlns=\"http://www.w3.org/2000/svg\" height=\"24px\"viewBox=\"0 0 24 24\"\n",
              "       width=\"24px\">\n",
              "    <path d=\"M0 0h24v24H0V0z\" fill=\"none\"/>\n",
              "    <path d=\"M18.56 5.44l.94 2.06.94-2.06 2.06-.94-2.06-.94-.94-2.06-.94 2.06-2.06.94zm-11 1L8.5 8.5l.94-2.06 2.06-.94-2.06-.94L8.5 2.5l-.94 2.06-2.06.94zm10 10l.94 2.06.94-2.06 2.06-.94-2.06-.94-.94-2.06-.94 2.06-2.06.94z\"/><path d=\"M17.41 7.96l-1.37-1.37c-.4-.4-.92-.59-1.43-.59-.52 0-1.04.2-1.43.59L10.3 9.45l-7.72 7.72c-.78.78-.78 2.05 0 2.83L4 21.41c.39.39.9.59 1.41.59.51 0 1.02-.2 1.41-.59l7.78-7.78 2.81-2.81c.8-.78.8-2.07 0-2.86zM5.41 20L4 18.59l7.72-7.72 1.47 1.35L5.41 20z\"/>\n",
              "  </svg>\n",
              "      </button>\n",
              "\n",
              "\n",
              "\n",
              "    <div id=\"df-08abc6e9-b173-4a82-a138-ba58d0c32001\">\n",
              "      <button class=\"colab-df-quickchart\" onclick=\"quickchart('df-08abc6e9-b173-4a82-a138-ba58d0c32001')\"\n",
              "              title=\"Suggest charts.\"\n",
              "              style=\"display:none;\">\n",
              "\n",
              "<svg xmlns=\"http://www.w3.org/2000/svg\" height=\"24px\"viewBox=\"0 0 24 24\"\n",
              "     width=\"24px\">\n",
              "    <g>\n",
              "        <path d=\"M19 3H5c-1.1 0-2 .9-2 2v14c0 1.1.9 2 2 2h14c1.1 0 2-.9 2-2V5c0-1.1-.9-2-2-2zM9 17H7v-7h2v7zm4 0h-2V7h2v10zm4 0h-2v-4h2v4z\"/>\n",
              "    </g>\n",
              "</svg>\n",
              "      </button>\n",
              "    </div>\n",
              "\n",
              "<style>\n",
              "  .colab-df-quickchart {\n",
              "    background-color: #E8F0FE;\n",
              "    border: none;\n",
              "    border-radius: 50%;\n",
              "    cursor: pointer;\n",
              "    display: none;\n",
              "    fill: #1967D2;\n",
              "    height: 32px;\n",
              "    padding: 0 0 0 0;\n",
              "    width: 32px;\n",
              "  }\n",
              "\n",
              "  .colab-df-quickchart:hover {\n",
              "    background-color: #E2EBFA;\n",
              "    box-shadow: 0px 1px 2px rgba(60, 64, 67, 0.3), 0px 1px 3px 1px rgba(60, 64, 67, 0.15);\n",
              "    fill: #174EA6;\n",
              "  }\n",
              "\n",
              "  [theme=dark] .colab-df-quickchart {\n",
              "    background-color: #3B4455;\n",
              "    fill: #D2E3FC;\n",
              "  }\n",
              "\n",
              "  [theme=dark] .colab-df-quickchart:hover {\n",
              "    background-color: #434B5C;\n",
              "    box-shadow: 0px 1px 3px 1px rgba(0, 0, 0, 0.15);\n",
              "    filter: drop-shadow(0px 1px 2px rgba(0, 0, 0, 0.3));\n",
              "    fill: #FFFFFF;\n",
              "  }\n",
              "</style>\n",
              "\n",
              "    <script>\n",
              "      async function quickchart(key) {\n",
              "        const containerElement = document.querySelector('#' + key);\n",
              "        const charts = await google.colab.kernel.invokeFunction(\n",
              "            'suggestCharts', [key], {});\n",
              "      }\n",
              "    </script>\n",
              "\n",
              "      <script>\n",
              "\n",
              "function displayQuickchartButton(domScope) {\n",
              "  let quickchartButtonEl =\n",
              "    domScope.querySelector('#df-08abc6e9-b173-4a82-a138-ba58d0c32001 button.colab-df-quickchart');\n",
              "  quickchartButtonEl.style.display =\n",
              "    google.colab.kernel.accessAllowed ? 'block' : 'none';\n",
              "}\n",
              "\n",
              "        displayQuickchartButton(document);\n",
              "      </script>\n",
              "      <style>\n",
              "    .colab-df-container {\n",
              "      display:flex;\n",
              "      flex-wrap:wrap;\n",
              "      gap: 12px;\n",
              "    }\n",
              "\n",
              "    .colab-df-convert {\n",
              "      background-color: #E8F0FE;\n",
              "      border: none;\n",
              "      border-radius: 50%;\n",
              "      cursor: pointer;\n",
              "      display: none;\n",
              "      fill: #1967D2;\n",
              "      height: 32px;\n",
              "      padding: 0 0 0 0;\n",
              "      width: 32px;\n",
              "    }\n",
              "\n",
              "    .colab-df-convert:hover {\n",
              "      background-color: #E2EBFA;\n",
              "      box-shadow: 0px 1px 2px rgba(60, 64, 67, 0.3), 0px 1px 3px 1px rgba(60, 64, 67, 0.15);\n",
              "      fill: #174EA6;\n",
              "    }\n",
              "\n",
              "    [theme=dark] .colab-df-convert {\n",
              "      background-color: #3B4455;\n",
              "      fill: #D2E3FC;\n",
              "    }\n",
              "\n",
              "    [theme=dark] .colab-df-convert:hover {\n",
              "      background-color: #434B5C;\n",
              "      box-shadow: 0px 1px 3px 1px rgba(0, 0, 0, 0.15);\n",
              "      filter: drop-shadow(0px 1px 2px rgba(0, 0, 0, 0.3));\n",
              "      fill: #FFFFFF;\n",
              "    }\n",
              "  </style>\n",
              "\n",
              "      <script>\n",
              "        const buttonEl =\n",
              "          document.querySelector('#df-df5cef79-9f9f-4122-843b-3ebd091b85d4 button.colab-df-convert');\n",
              "        buttonEl.style.display =\n",
              "          google.colab.kernel.accessAllowed ? 'block' : 'none';\n",
              "\n",
              "        async function convertToInteractive(key) {\n",
              "          const element = document.querySelector('#df-df5cef79-9f9f-4122-843b-3ebd091b85d4');\n",
              "          const dataTable =\n",
              "            await google.colab.kernel.invokeFunction('convertToInteractive',\n",
              "                                                     [key], {});\n",
              "          if (!dataTable) return;\n",
              "\n",
              "          const docLinkHtml = 'Like what you see? Visit the ' +\n",
              "            '<a target=\"_blank\" href=https://colab.research.google.com/notebooks/data_table.ipynb>data table notebook</a>'\n",
              "            + ' to learn more about interactive tables.';\n",
              "          element.innerHTML = '';\n",
              "          dataTable['output_type'] = 'display_data';\n",
              "          await google.colab.output.renderOutput(dataTable, element);\n",
              "          const docLink = document.createElement('div');\n",
              "          docLink.innerHTML = docLinkHtml;\n",
              "          element.appendChild(docLink);\n",
              "        }\n",
              "      </script>\n",
              "    </div>\n",
              "  </div>\n"
            ]
          },
          "metadata": {},
          "execution_count": 69
        }
      ],
      "source": [
        "#Dataframe partidos de LaLiga temporada 2015/2016\n",
        "df = sb.matches(competition_id=11, season_id=27)\n",
        "df.tail(3)"
      ]
    },
    {
      "cell_type": "code",
      "execution_count": null,
      "id": "be145dfd",
      "metadata": {
        "colab": {
          "base_uri": "https://localhost:8080/"
        },
        "id": "be145dfd",
        "outputId": "b1201bb2-77b4-4048-bd58-3b026bdab481"
      },
      "outputs": [
        {
          "output_type": "execute_result",
          "data": {
            "text/plain": [
              "380"
            ]
          },
          "metadata": {},
          "execution_count": 70
        }
      ],
      "source": [
        "#Lista de partidos de LaLiga 2015/2016\n",
        "matches = list(df.match_id)\n",
        "len(matches)"
      ]
    },
    {
      "cell_type": "code",
      "execution_count": null,
      "id": "b79e3fc5",
      "metadata": {
        "id": "b79e3fc5"
      },
      "outputs": [],
      "source": [
        "#UNION DE TODOS LOS DATOS DE EVENTOS DE LA LIGA TEMPORADA 2015/2016\n",
        "df_events = pd.concat([sb.events(match) for match in matches])"
      ]
    },
    {
      "cell_type": "markdown",
      "id": "fc6b1b42",
      "metadata": {
        "id": "fc6b1b42"
      },
      "source": [
        "## 2. EXPLORACIÓN DE DATOS"
      ]
    },
    {
      "cell_type": "code",
      "source": [
        "print(list(df_events.columns))"
      ],
      "metadata": {
        "colab": {
          "base_uri": "https://localhost:8080/"
        },
        "id": "SGIUh8sd47Om",
        "outputId": "27ada23c-304c-4dae-c676-299cf77bace0"
      },
      "id": "SGIUh8sd47Om",
      "execution_count": null,
      "outputs": [
        {
          "output_type": "stream",
          "name": "stdout",
          "text": [
            "['bad_behaviour_card', 'ball_receipt_outcome', 'ball_recovery_recovery_failure', 'block_deflection', 'carry_end_location', 'clearance_aerial_won', 'clearance_body_part', 'clearance_head', 'clearance_left_foot', 'clearance_right_foot', 'counterpress', 'dribble_no_touch', 'dribble_nutmeg', 'dribble_outcome', 'duel_outcome', 'duel_type', 'duration', 'foul_committed_advantage', 'foul_committed_card', 'foul_committed_type', 'foul_won_advantage', 'foul_won_defensive', 'goalkeeper_body_part', 'goalkeeper_end_location', 'goalkeeper_outcome', 'goalkeeper_position', 'goalkeeper_technique', 'goalkeeper_type', 'id', 'index', 'interception_outcome', 'location', 'match_id', 'minute', 'miscontrol_aerial_won', 'off_camera', 'out', 'pass_aerial_won', 'pass_angle', 'pass_assisted_shot_id', 'pass_body_part', 'pass_cross', 'pass_cut_back', 'pass_deflected', 'pass_end_location', 'pass_goal_assist', 'pass_height', 'pass_inswinging', 'pass_length', 'pass_miscommunication', 'pass_no_touch', 'pass_outcome', 'pass_outswinging', 'pass_recipient', 'pass_shot_assist', 'pass_straight', 'pass_switch', 'pass_technique', 'pass_through_ball', 'pass_type', 'period', 'play_pattern', 'player', 'player_id', 'position', 'possession', 'possession_team', 'possession_team_id', 'related_events', 'second', 'shot_aerial_won', 'shot_body_part', 'shot_deflected', 'shot_end_location', 'shot_first_time', 'shot_freeze_frame', 'shot_key_pass_id', 'shot_outcome', 'shot_statsbomb_xg', 'shot_technique', 'shot_type', 'substitution_outcome', 'substitution_replacement', 'tactics', 'team', 'team_id', 'timestamp', 'type', 'under_pressure', '50_50', 'block_offensive', 'foul_committed_offensive', 'injury_stoppage_in_chain', 'shot_one_on_one', 'clearance_other', 'dribble_overrun', 'block_save_block', 'shot_open_goal', 'foul_committed_penalty', 'foul_won_penalty', 'goalkeeper_punched_out', 'ball_recovery_offensive', 'player_off_permanent', 'goalkeeper_success_in_play', 'goalkeeper_shot_saved_off_target', 'shot_saved_off_target', 'shot_redirect', 'goalkeeper_lost_out', 'goalkeeper_lost_in_play', 'goalkeeper_shot_saved_to_post', 'shot_saved_to_post', 'shot_follows_dribble', 'goalkeeper_success_out', 'half_end_early_video_end', 'x', 'y']\n"
          ]
        }
      ]
    },
    {
      "cell_type": "code",
      "source": [
        "df_events[['team', 'timestamp', 'type','player', 'location','pass_type', 'pass_angle','shot_type',\n",
        "           'duel_type', 'duration']]"
      ],
      "metadata": {
        "colab": {
          "base_uri": "https://localhost:8080/",
          "height": 537
        },
        "id": "KGzydy_16GIg",
        "outputId": "fa5ceada-adae-45e9-8802-7fb67c1148be"
      },
      "id": "KGzydy_16GIg",
      "execution_count": null,
      "outputs": [
        {
          "output_type": "execute_result",
          "data": {
            "text/plain": [
              "              team     timestamp              type  \\\n",
              "0            Eibar  00:00:00.500              Pass   \n",
              "1            Eibar  00:00:00.986              Pass   \n",
              "2            Eibar  00:00:04.078              Pass   \n",
              "3            Eibar  00:00:07.214              Pass   \n",
              "4            Eibar  00:00:13.855              Pass   \n",
              "...            ...           ...               ...   \n",
              "1286186  Barcelona  00:26:49.777             50/50   \n",
              "1286187   Valencia  00:26:49.777             50/50   \n",
              "1286188  Barcelona  00:25:17.444  Own Goal Against   \n",
              "1286189   Valencia  00:25:17.444      Own Goal For   \n",
              "1286190  Barcelona  00:19:33.595             Error   \n",
              "\n",
              "                               player       location pass_type  pass_angle  \\\n",
              "0             Adrián González Morales   [61.0, 40.1]  Kick Off    1.419191   \n",
              "1                Borja González Tomás   [61.2, 41.3]       NaN   -2.137526   \n",
              "2              Daniel García Carrillo   [49.2, 33.5]       NaN    2.167094   \n",
              "3                   Aleksandar Pantić   [32.3, 58.4]       NaN   -1.630554   \n",
              "4             Mauro Javier Dos Santos   [40.5, 76.1]       NaN   -1.658705   \n",
              "...                               ...            ...       ...         ...   \n",
              "1286186   Javier Alejandro Mascherano   [36.5, 23.7]       NaN         NaN   \n",
              "1286187    André Filipe Tavares Gomes   [83.6, 56.4]       NaN         NaN   \n",
              "1286188                  Ivan Rakitić    [1.4, 50.6]       NaN         NaN   \n",
              "1286189  Guilherme Magdalena Siqueira  [118.7, 29.5]       NaN         NaN   \n",
              "1286190      Luis Alberto Suárez Díaz    [9.4, 53.1]       NaN         NaN   \n",
              "\n",
              "        shot_type duel_type  duration  \n",
              "0             NaN       NaN  0.486053  \n",
              "1             NaN       NaN  1.397421  \n",
              "2             NaN       NaN  1.558912  \n",
              "3             NaN       NaN  1.633776  \n",
              "4             NaN       NaN  2.934427  \n",
              "...           ...       ...       ...  \n",
              "1286186       NaN       NaN  0.000000  \n",
              "1286187       NaN       NaN  0.000000  \n",
              "1286188       NaN       NaN  0.000000  \n",
              "1286189       NaN       NaN  0.000000  \n",
              "1286190       NaN       NaN  0.000000  \n",
              "\n",
              "[1286191 rows x 10 columns]"
            ],
            "text/html": [
              "\n",
              "\n",
              "  <div id=\"df-ce391aab-895a-4698-b01f-4eba0dd51e50\">\n",
              "    <div class=\"colab-df-container\">\n",
              "      <div>\n",
              "<style scoped>\n",
              "    .dataframe tbody tr th:only-of-type {\n",
              "        vertical-align: middle;\n",
              "    }\n",
              "\n",
              "    .dataframe tbody tr th {\n",
              "        vertical-align: top;\n",
              "    }\n",
              "\n",
              "    .dataframe thead th {\n",
              "        text-align: right;\n",
              "    }\n",
              "</style>\n",
              "<table border=\"1\" class=\"dataframe\">\n",
              "  <thead>\n",
              "    <tr style=\"text-align: right;\">\n",
              "      <th></th>\n",
              "      <th>team</th>\n",
              "      <th>timestamp</th>\n",
              "      <th>type</th>\n",
              "      <th>player</th>\n",
              "      <th>location</th>\n",
              "      <th>pass_type</th>\n",
              "      <th>pass_angle</th>\n",
              "      <th>shot_type</th>\n",
              "      <th>duel_type</th>\n",
              "      <th>duration</th>\n",
              "    </tr>\n",
              "  </thead>\n",
              "  <tbody>\n",
              "    <tr>\n",
              "      <th>0</th>\n",
              "      <td>Eibar</td>\n",
              "      <td>00:00:00.500</td>\n",
              "      <td>Pass</td>\n",
              "      <td>Adrián González Morales</td>\n",
              "      <td>[61.0, 40.1]</td>\n",
              "      <td>Kick Off</td>\n",
              "      <td>1.419191</td>\n",
              "      <td>NaN</td>\n",
              "      <td>NaN</td>\n",
              "      <td>0.486053</td>\n",
              "    </tr>\n",
              "    <tr>\n",
              "      <th>1</th>\n",
              "      <td>Eibar</td>\n",
              "      <td>00:00:00.986</td>\n",
              "      <td>Pass</td>\n",
              "      <td>Borja González Tomás</td>\n",
              "      <td>[61.2, 41.3]</td>\n",
              "      <td>NaN</td>\n",
              "      <td>-2.137526</td>\n",
              "      <td>NaN</td>\n",
              "      <td>NaN</td>\n",
              "      <td>1.397421</td>\n",
              "    </tr>\n",
              "    <tr>\n",
              "      <th>2</th>\n",
              "      <td>Eibar</td>\n",
              "      <td>00:00:04.078</td>\n",
              "      <td>Pass</td>\n",
              "      <td>Daniel García Carrillo</td>\n",
              "      <td>[49.2, 33.5]</td>\n",
              "      <td>NaN</td>\n",
              "      <td>2.167094</td>\n",
              "      <td>NaN</td>\n",
              "      <td>NaN</td>\n",
              "      <td>1.558912</td>\n",
              "    </tr>\n",
              "    <tr>\n",
              "      <th>3</th>\n",
              "      <td>Eibar</td>\n",
              "      <td>00:00:07.214</td>\n",
              "      <td>Pass</td>\n",
              "      <td>Aleksandar Pantić</td>\n",
              "      <td>[32.3, 58.4]</td>\n",
              "      <td>NaN</td>\n",
              "      <td>-1.630554</td>\n",
              "      <td>NaN</td>\n",
              "      <td>NaN</td>\n",
              "      <td>1.633776</td>\n",
              "    </tr>\n",
              "    <tr>\n",
              "      <th>4</th>\n",
              "      <td>Eibar</td>\n",
              "      <td>00:00:13.855</td>\n",
              "      <td>Pass</td>\n",
              "      <td>Mauro Javier Dos Santos</td>\n",
              "      <td>[40.5, 76.1]</td>\n",
              "      <td>NaN</td>\n",
              "      <td>-1.658705</td>\n",
              "      <td>NaN</td>\n",
              "      <td>NaN</td>\n",
              "      <td>2.934427</td>\n",
              "    </tr>\n",
              "    <tr>\n",
              "      <th>...</th>\n",
              "      <td>...</td>\n",
              "      <td>...</td>\n",
              "      <td>...</td>\n",
              "      <td>...</td>\n",
              "      <td>...</td>\n",
              "      <td>...</td>\n",
              "      <td>...</td>\n",
              "      <td>...</td>\n",
              "      <td>...</td>\n",
              "      <td>...</td>\n",
              "    </tr>\n",
              "    <tr>\n",
              "      <th>1286186</th>\n",
              "      <td>Barcelona</td>\n",
              "      <td>00:26:49.777</td>\n",
              "      <td>50/50</td>\n",
              "      <td>Javier Alejandro Mascherano</td>\n",
              "      <td>[36.5, 23.7]</td>\n",
              "      <td>NaN</td>\n",
              "      <td>NaN</td>\n",
              "      <td>NaN</td>\n",
              "      <td>NaN</td>\n",
              "      <td>0.000000</td>\n",
              "    </tr>\n",
              "    <tr>\n",
              "      <th>1286187</th>\n",
              "      <td>Valencia</td>\n",
              "      <td>00:26:49.777</td>\n",
              "      <td>50/50</td>\n",
              "      <td>André Filipe Tavares Gomes</td>\n",
              "      <td>[83.6, 56.4]</td>\n",
              "      <td>NaN</td>\n",
              "      <td>NaN</td>\n",
              "      <td>NaN</td>\n",
              "      <td>NaN</td>\n",
              "      <td>0.000000</td>\n",
              "    </tr>\n",
              "    <tr>\n",
              "      <th>1286188</th>\n",
              "      <td>Barcelona</td>\n",
              "      <td>00:25:17.444</td>\n",
              "      <td>Own Goal Against</td>\n",
              "      <td>Ivan Rakitić</td>\n",
              "      <td>[1.4, 50.6]</td>\n",
              "      <td>NaN</td>\n",
              "      <td>NaN</td>\n",
              "      <td>NaN</td>\n",
              "      <td>NaN</td>\n",
              "      <td>0.000000</td>\n",
              "    </tr>\n",
              "    <tr>\n",
              "      <th>1286189</th>\n",
              "      <td>Valencia</td>\n",
              "      <td>00:25:17.444</td>\n",
              "      <td>Own Goal For</td>\n",
              "      <td>Guilherme Magdalena Siqueira</td>\n",
              "      <td>[118.7, 29.5]</td>\n",
              "      <td>NaN</td>\n",
              "      <td>NaN</td>\n",
              "      <td>NaN</td>\n",
              "      <td>NaN</td>\n",
              "      <td>0.000000</td>\n",
              "    </tr>\n",
              "    <tr>\n",
              "      <th>1286190</th>\n",
              "      <td>Barcelona</td>\n",
              "      <td>00:19:33.595</td>\n",
              "      <td>Error</td>\n",
              "      <td>Luis Alberto Suárez Díaz</td>\n",
              "      <td>[9.4, 53.1]</td>\n",
              "      <td>NaN</td>\n",
              "      <td>NaN</td>\n",
              "      <td>NaN</td>\n",
              "      <td>NaN</td>\n",
              "      <td>0.000000</td>\n",
              "    </tr>\n",
              "  </tbody>\n",
              "</table>\n",
              "<p>1286191 rows × 10 columns</p>\n",
              "</div>\n",
              "      <button class=\"colab-df-convert\" onclick=\"convertToInteractive('df-ce391aab-895a-4698-b01f-4eba0dd51e50')\"\n",
              "              title=\"Convert this dataframe to an interactive table.\"\n",
              "              style=\"display:none;\">\n",
              "\n",
              "  <svg xmlns=\"http://www.w3.org/2000/svg\" height=\"24px\"viewBox=\"0 0 24 24\"\n",
              "       width=\"24px\">\n",
              "    <path d=\"M0 0h24v24H0V0z\" fill=\"none\"/>\n",
              "    <path d=\"M18.56 5.44l.94 2.06.94-2.06 2.06-.94-2.06-.94-.94-2.06-.94 2.06-2.06.94zm-11 1L8.5 8.5l.94-2.06 2.06-.94-2.06-.94L8.5 2.5l-.94 2.06-2.06.94zm10 10l.94 2.06.94-2.06 2.06-.94-2.06-.94-.94-2.06-.94 2.06-2.06.94z\"/><path d=\"M17.41 7.96l-1.37-1.37c-.4-.4-.92-.59-1.43-.59-.52 0-1.04.2-1.43.59L10.3 9.45l-7.72 7.72c-.78.78-.78 2.05 0 2.83L4 21.41c.39.39.9.59 1.41.59.51 0 1.02-.2 1.41-.59l7.78-7.78 2.81-2.81c.8-.78.8-2.07 0-2.86zM5.41 20L4 18.59l7.72-7.72 1.47 1.35L5.41 20z\"/>\n",
              "  </svg>\n",
              "      </button>\n",
              "\n",
              "\n",
              "\n",
              "    <div id=\"df-79267a2e-e8b0-400f-a5ed-1b3e396eaafb\">\n",
              "      <button class=\"colab-df-quickchart\" onclick=\"quickchart('df-79267a2e-e8b0-400f-a5ed-1b3e396eaafb')\"\n",
              "              title=\"Suggest charts.\"\n",
              "              style=\"display:none;\">\n",
              "\n",
              "<svg xmlns=\"http://www.w3.org/2000/svg\" height=\"24px\"viewBox=\"0 0 24 24\"\n",
              "     width=\"24px\">\n",
              "    <g>\n",
              "        <path d=\"M19 3H5c-1.1 0-2 .9-2 2v14c0 1.1.9 2 2 2h14c1.1 0 2-.9 2-2V5c0-1.1-.9-2-2-2zM9 17H7v-7h2v7zm4 0h-2V7h2v10zm4 0h-2v-4h2v4z\"/>\n",
              "    </g>\n",
              "</svg>\n",
              "      </button>\n",
              "    </div>\n",
              "\n",
              "<style>\n",
              "  .colab-df-quickchart {\n",
              "    background-color: #E8F0FE;\n",
              "    border: none;\n",
              "    border-radius: 50%;\n",
              "    cursor: pointer;\n",
              "    display: none;\n",
              "    fill: #1967D2;\n",
              "    height: 32px;\n",
              "    padding: 0 0 0 0;\n",
              "    width: 32px;\n",
              "  }\n",
              "\n",
              "  .colab-df-quickchart:hover {\n",
              "    background-color: #E2EBFA;\n",
              "    box-shadow: 0px 1px 2px rgba(60, 64, 67, 0.3), 0px 1px 3px 1px rgba(60, 64, 67, 0.15);\n",
              "    fill: #174EA6;\n",
              "  }\n",
              "\n",
              "  [theme=dark] .colab-df-quickchart {\n",
              "    background-color: #3B4455;\n",
              "    fill: #D2E3FC;\n",
              "  }\n",
              "\n",
              "  [theme=dark] .colab-df-quickchart:hover {\n",
              "    background-color: #434B5C;\n",
              "    box-shadow: 0px 1px 3px 1px rgba(0, 0, 0, 0.15);\n",
              "    filter: drop-shadow(0px 1px 2px rgba(0, 0, 0, 0.3));\n",
              "    fill: #FFFFFF;\n",
              "  }\n",
              "</style>\n",
              "\n",
              "    <script>\n",
              "      async function quickchart(key) {\n",
              "        const containerElement = document.querySelector('#' + key);\n",
              "        const charts = await google.colab.kernel.invokeFunction(\n",
              "            'suggestCharts', [key], {});\n",
              "      }\n",
              "    </script>\n",
              "\n",
              "      <script>\n",
              "\n",
              "function displayQuickchartButton(domScope) {\n",
              "  let quickchartButtonEl =\n",
              "    domScope.querySelector('#df-79267a2e-e8b0-400f-a5ed-1b3e396eaafb button.colab-df-quickchart');\n",
              "  quickchartButtonEl.style.display =\n",
              "    google.colab.kernel.accessAllowed ? 'block' : 'none';\n",
              "}\n",
              "\n",
              "        displayQuickchartButton(document);\n",
              "      </script>\n",
              "      <style>\n",
              "    .colab-df-container {\n",
              "      display:flex;\n",
              "      flex-wrap:wrap;\n",
              "      gap: 12px;\n",
              "    }\n",
              "\n",
              "    .colab-df-convert {\n",
              "      background-color: #E8F0FE;\n",
              "      border: none;\n",
              "      border-radius: 50%;\n",
              "      cursor: pointer;\n",
              "      display: none;\n",
              "      fill: #1967D2;\n",
              "      height: 32px;\n",
              "      padding: 0 0 0 0;\n",
              "      width: 32px;\n",
              "    }\n",
              "\n",
              "    .colab-df-convert:hover {\n",
              "      background-color: #E2EBFA;\n",
              "      box-shadow: 0px 1px 2px rgba(60, 64, 67, 0.3), 0px 1px 3px 1px rgba(60, 64, 67, 0.15);\n",
              "      fill: #174EA6;\n",
              "    }\n",
              "\n",
              "    [theme=dark] .colab-df-convert {\n",
              "      background-color: #3B4455;\n",
              "      fill: #D2E3FC;\n",
              "    }\n",
              "\n",
              "    [theme=dark] .colab-df-convert:hover {\n",
              "      background-color: #434B5C;\n",
              "      box-shadow: 0px 1px 3px 1px rgba(0, 0, 0, 0.15);\n",
              "      filter: drop-shadow(0px 1px 2px rgba(0, 0, 0, 0.3));\n",
              "      fill: #FFFFFF;\n",
              "    }\n",
              "  </style>\n",
              "\n",
              "      <script>\n",
              "        const buttonEl =\n",
              "          document.querySelector('#df-ce391aab-895a-4698-b01f-4eba0dd51e50 button.colab-df-convert');\n",
              "        buttonEl.style.display =\n",
              "          google.colab.kernel.accessAllowed ? 'block' : 'none';\n",
              "\n",
              "        async function convertToInteractive(key) {\n",
              "          const element = document.querySelector('#df-ce391aab-895a-4698-b01f-4eba0dd51e50');\n",
              "          const dataTable =\n",
              "            await google.colab.kernel.invokeFunction('convertToInteractive',\n",
              "                                                     [key], {});\n",
              "          if (!dataTable) return;\n",
              "\n",
              "          const docLinkHtml = 'Like what you see? Visit the ' +\n",
              "            '<a target=\"_blank\" href=https://colab.research.google.com/notebooks/data_table.ipynb>data table notebook</a>'\n",
              "            + ' to learn more about interactive tables.';\n",
              "          element.innerHTML = '';\n",
              "          dataTable['output_type'] = 'display_data';\n",
              "          await google.colab.output.renderOutput(dataTable, element);\n",
              "          const docLink = document.createElement('div');\n",
              "          docLink.innerHTML = docLinkHtml;\n",
              "          element.appendChild(docLink);\n",
              "        }\n",
              "      </script>\n",
              "    </div>\n",
              "  </div>\n"
            ]
          },
          "metadata": {},
          "execution_count": 13
        }
      ]
    },
    {
      "cell_type": "code",
      "execution_count": null,
      "id": "c7c02121",
      "metadata": {
        "scrolled": true,
        "colab": {
          "base_uri": "https://localhost:8080/"
        },
        "id": "c7c02121",
        "outputId": "8614e153-86b4-4705-ef6d-9fe92023a21e"
      },
      "outputs": [
        {
          "output_type": "stream",
          "name": "stdout",
          "text": [
            "0 bad_behaviour_card: \n",
            "[nan 'Yellow Card' 'Red Card' 'Second Yellow']\n",
            "1 ball_receipt_outcome: \n",
            "[nan 'Incomplete']\n",
            "2 ball_recovery_recovery_failure: \n",
            "[nan True]\n",
            "3 block_deflection: \n",
            "[nan True]\n",
            "4 block_offensive: \n",
            "[nan True]\n",
            "5 clearance_aerial_won: \n",
            "[nan True]\n",
            "6 clearance_body_part: \n",
            "[nan 'Left Foot' 'Right Foot' 'Head' 'Other']\n",
            "7 clearance_head: \n",
            "[nan True]\n",
            "8 clearance_left_foot: \n",
            "[nan True]\n",
            "9 clearance_right_foot: \n",
            "[nan True]\n",
            "10 counterpress: \n",
            "[nan True]\n",
            "11 dribble_nutmeg: \n",
            "[nan True]\n",
            "12 dribble_outcome: \n",
            "[nan 'Complete' 'Incomplete']\n",
            "13 duel_outcome: \n",
            "[nan 'Success In Play' 'Lost Out' 'Won' 'Lost In Play' 'Success Out']\n",
            "14 duel_type: \n",
            "[nan 'Aerial Lost' 'Tackle']\n",
            "15 duration: \n",
            "[ 0.        0.486053  1.397421 ...  0.935998  0.70113  60.      ]\n",
            "16 foul_committed_advantage: \n",
            "[nan True]\n",
            "17 foul_committed_card: \n",
            "[nan 'Yellow Card' 'Second Yellow' 'Red Card']\n",
            "18 foul_committed_type: \n",
            "[nan 'Handball' 'Dangerous Play' 'Dive' 'Foul Out' 'Backpass Pick'\n",
            " '6 Seconds']\n",
            "19 foul_won_advantage: \n",
            "[nan True]\n",
            "20 foul_won_defensive: \n",
            "[nan True]\n",
            "21 goalkeeper_body_part: \n",
            "[nan 'Left Foot' 'Left Hand' 'Both Hands' 'Right Hand' 'Right Foot'\n",
            " 'Chest' 'Head']\n",
            "22 goalkeeper_end_location: \n",
            "Info. no disponible\n",
            "23 goalkeeper_outcome: \n",
            "[nan 'Claim' 'Clear' 'Touched Out' 'No Touch' 'Success' 'Fail'\n",
            " 'In Play Safe' 'In Play Danger' 'Saved Twice' 'Touched In' 'Punched out'\n",
            " 'Collected Twice' 'Success In Play' 'Lost Out' 'Won' 'Lost In Play'\n",
            " 'Success Out']\n",
            "24 goalkeeper_position: \n",
            "[nan 'Set' 'Moving' 'Prone']\n",
            "25 goalkeeper_technique: \n",
            "[nan 'Diving' 'Standing']\n",
            "26 goalkeeper_type: \n",
            "[nan 'Keeper Sweeper' 'Shot Faced' 'Shot Saved' 'Goal Conceded'\n",
            " 'Collected' 'Punch' 'Penalty Conceded' 'Save' 'Smother'\n",
            " 'Shot Saved Off Target' 'Penalty Saved' 'Shot Saved to Post']\n",
            "27 injury_stoppage_in_chain: \n",
            "[nan True]\n",
            "28 interception_outcome: \n",
            "[nan 'Won' 'Lost In Play' 'Lost Out' 'Success In Play' 'Success Out']\n",
            "29 off_camera: \n",
            "[nan True]\n",
            "30 out: \n",
            "[nan True]\n",
            "31 pass_aerial_won: \n",
            "[nan True]\n",
            "32 pass_body_part: \n",
            "[nan 'Left Foot' 'Right Foot' 'Head' 'Drop Kick' 'Keeper Arm' 'No Touch'\n",
            " 'Other']\n",
            "33 pass_cross: \n",
            "[nan True]\n",
            "34 pass_cut_back: \n",
            "[nan True]\n",
            "35 pass_deflected: \n",
            "[nan True]\n",
            "36 pass_goal_assist: \n",
            "[nan True]\n",
            "37 pass_height: \n",
            "[nan 'Ground Pass' 'Low Pass' 'High Pass']\n",
            "38 pass_miscommunication: \n",
            "[nan True]\n",
            "39 pass_outcome: \n",
            "[nan 'Out' 'Incomplete' 'Unknown' 'Pass Offside' 'Injury Clearance']\n",
            "40 pass_outswinging: \n",
            "[nan True]\n",
            "41 pass_shot_assist: \n",
            "[nan True]\n",
            "42 pass_switch: \n",
            "[nan True]\n",
            "43 pass_technique: \n",
            "[nan 'Through Ball' 'Outswinging' 'Inswinging' 'Straight']\n",
            "44 pass_through_ball: \n",
            "[nan True]\n",
            "45 pass_type: \n",
            "[nan 'Kick Off' 'Throw-in' 'Recovery' 'Corner' 'Goal Kick' 'Free Kick'\n",
            " 'Interception']\n",
            "46 period: \n",
            "[1 2]\n",
            "47 play_pattern: \n",
            "['Regular Play' 'From Kick Off' 'From Throw In' 'From Keeper'\n",
            " 'From Corner' 'From Goal Kick' 'From Free Kick' 'From Counter' 'Other']\n",
            "48 position: \n",
            "[nan 'Center Attacking Midfield' 'Center Forward'\n",
            " 'Left Defensive Midfield' 'Left Center Back' 'Right Center Back'\n",
            " 'Right Wing Back' 'Right Center Midfield' 'Center Back' 'Left Wing Back'\n",
            " 'Right Back' 'Right Defensive Midfield' 'Center Defensive Midfield'\n",
            " 'Goalkeeper' 'Left Center Forward' 'Left Wing' 'Left Back' 'Right Wing'\n",
            " 'Left Center Midfield' 'Right Center Forward' 'Left Midfield'\n",
            " 'Right Midfield' 'Left Attacking Midfield' 'Right Attacking Midfield'\n",
            " 'Substitute' 'Center Midfield']\n",
            "49 possession_team: \n",
            "['Levante UD' 'Eibar' 'Las Palmas' 'Sevilla' 'RC Deportivo La Coruña'\n",
            " 'Getafe' 'Málaga' 'Espanyol' 'Sporting Gijón' 'Villarreal'\n",
            " 'Rayo Vallecano' 'Real Betis' 'Real Madrid' 'Athletic Club'\n",
            " 'Atlético Madrid' 'Celta Vigo' 'Valencia' 'Real Sociedad' 'Granada'\n",
            " 'Barcelona']\n",
            "50 possession_team_id: \n",
            "[ 221  322  208  213  219  216  223  214 1041  222  360  218  220  215\n",
            "  212  209  207  210 1049  217]\n",
            "51 related_events: \n",
            "Info. no disponible\n",
            "52 shot_aerial_won: \n",
            "[nan True]\n",
            "53 shot_body_part: \n",
            "[nan 'Head' 'Right Foot' 'Left Foot' 'Other']\n",
            "54 shot_deflected: \n",
            "[nan True]\n",
            "55 shot_end_location: \n",
            "Info. no disponible\n",
            "56 shot_first_time: \n",
            "[nan True]\n",
            "57 shot_freeze_frame: \n",
            "Info. no disponible\n",
            "58 shot_one_on_one: \n",
            "[nan True]\n",
            "59 shot_open_goal: \n",
            "[nan True]\n",
            "60 shot_outcome: \n",
            "[nan 'Off T' 'Saved' 'Blocked' 'Goal' 'Post' 'Wayward' 'Saved Off Target'\n",
            " 'Saved to Post']\n",
            "61 shot_statsbomb_xg: \n",
            "[       nan 0.10042935 0.02313796 ... 0.07523169 0.29971933 0.18681975]\n",
            "62 shot_technique: \n",
            "[nan 'Normal' 'Half Volley' 'Volley' 'Backheel' 'Lob' 'Diving Header'\n",
            " 'Overhead Kick']\n",
            "63 shot_type: \n",
            "[nan 'Open Play' 'Free Kick' 'Penalty' 'Corner']\n",
            "64 substitution_outcome: \n",
            "[nan 'Tactical' 'Injury']\n",
            "65 team: \n",
            "['Levante UD' 'Eibar' 'Las Palmas' 'Sevilla' 'RC Deportivo La Coruña'\n",
            " 'Getafe' 'Málaga' 'Espanyol' 'Sporting Gijón' 'Villarreal'\n",
            " 'Rayo Vallecano' 'Real Betis' 'Real Madrid' 'Athletic Club'\n",
            " 'Atlético Madrid' 'Celta Vigo' 'Valencia' 'Real Sociedad' 'Granada'\n",
            " 'Barcelona']\n",
            "66 team_id: \n",
            "[ 221  322  208  213  219  216  223  214 1041  222  360  218  220  215\n",
            "  212  209  207  210 1049  217]\n",
            "67 type: \n",
            "['Starting XI' 'Half Start' 'Pass' 'Ball Receipt*' 'Carry' 'Pressure'\n",
            " 'Miscontrol' 'Duel' 'Interception' 'Goal Keeper' 'Clearance'\n",
            " 'Ball Recovery' 'Shot' 'Foul Committed' 'Foul Won' 'Dribbled Past'\n",
            " 'Dribble' 'Block' 'Dispossessed' 'Injury Stoppage' 'Player Off'\n",
            " 'Player On' 'Substitution' 'Half End' 'Tactical Shift' 'Bad Behaviour'\n",
            " 'Shield' '50/50' 'Offside' 'Referee Ball-Drop' 'Error' 'Own Goal For'\n",
            " 'Own Goal Against']\n",
            "68 under_pressure: \n",
            "[nan True]\n"
          ]
        }
      ],
      "source": [
        "#¿Qué información obtengo?\n",
        "filter_col = ['bad_behaviour_card', 'ball_receipt_outcome', 'ball_recovery_recovery_failure', 'block_deflection',\n",
        "           'block_offensive', 'clearance_aerial_won', 'clearance_body_part', 'clearance_head',\n",
        "           'clearance_left_foot', 'clearance_right_foot', 'counterpress', 'dribble_nutmeg', 'dribble_outcome', 'duel_outcome',\n",
        "           'duel_type', 'duration', 'foul_committed_advantage', 'foul_committed_card', 'foul_committed_type',\n",
        "           'foul_won_advantage', 'foul_won_defensive', 'goalkeeper_body_part', 'goalkeeper_end_location',\n",
        "           'goalkeeper_outcome', 'goalkeeper_position', 'goalkeeper_technique', 'goalkeeper_type',\n",
        "           'injury_stoppage_in_chain', 'interception_outcome', 'off_camera', 'out',\n",
        "           'pass_aerial_won', 'pass_body_part', 'pass_cross', 'pass_cut_back',\n",
        "           'pass_deflected', 'pass_goal_assist', 'pass_height', 'pass_miscommunication',\n",
        "           'pass_outcome', 'pass_outswinging', 'pass_shot_assist', 'pass_switch', 'pass_technique',\n",
        "           'pass_through_ball', 'pass_type', 'period', 'play_pattern', 'position',\n",
        "           'possession_team', 'possession_team_id', 'related_events', 'shot_aerial_won', 'shot_body_part',\n",
        "           'shot_deflected', 'shot_end_location', 'shot_first_time', 'shot_freeze_frame',\n",
        "           'shot_one_on_one', 'shot_open_goal', 'shot_outcome', 'shot_statsbomb_xg', 'shot_technique', 'shot_type',\n",
        "           'substitution_outcome', 'team', 'team_id', 'type',\n",
        "           'under_pressure']\n",
        "\n",
        "for i in range(len(filter_col)):\n",
        "    print(f'{i} {filter_col[i]}: ')\n",
        "    try:\n",
        "        print(df_events[filter_col[i]].unique())\n",
        "    except:\n",
        "        print('Info. no disponible')"
      ]
    },
    {
      "cell_type": "code",
      "source": [
        "#df_prueba = df_events[df_events.match_id==3825617]\n",
        "#df_ordenado = df_prueba.sort_values('timestamp')\n",
        "#df_ordenado[['match_id','team','player','type','pass_type','location','timestamp', 'play_pattern']].tail(10)"
      ],
      "metadata": {
        "id": "xE8pxgDEk7fa"
      },
      "id": "xE8pxgDEk7fa",
      "execution_count": null,
      "outputs": []
    },
    {
      "cell_type": "code",
      "source": [
        "df_events[df_events.type=='Pass'][['team','player','pass_type','location','pass_outcome', 'play_pattern']].info()"
      ],
      "metadata": {
        "colab": {
          "base_uri": "https://localhost:8080/"
        },
        "id": "Q8NO1CXblB1W",
        "outputId": "11f8f51e-3007-4202-85f6-8decf83d41da"
      },
      "id": "Q8NO1CXblB1W",
      "execution_count": null,
      "outputs": [
        {
          "output_type": "stream",
          "name": "stdout",
          "text": [
            "<class 'pandas.core.frame.DataFrame'>\n",
            "Int64Index: 365288 entries, 0 to 1283562\n",
            "Data columns (total 6 columns):\n",
            " #   Column        Non-Null Count   Dtype \n",
            "---  ------        --------------   ----- \n",
            " 0   team          365288 non-null  object\n",
            " 1   player        365288 non-null  object\n",
            " 2   pass_type     83669 non-null   object\n",
            " 3   location      365288 non-null  object\n",
            " 4   pass_outcome  88525 non-null   object\n",
            " 5   play_pattern  365288 non-null  object\n",
            "dtypes: object(6)\n",
            "memory usage: 19.5+ MB\n"
          ]
        }
      ]
    },
    {
      "cell_type": "code",
      "source": [
        "df_events.type.unique()"
      ],
      "metadata": {
        "colab": {
          "base_uri": "https://localhost:8080/"
        },
        "id": "LiW0bLx79IlB",
        "outputId": "addae34b-c5f3-45e3-b183-c9402bbc5c53"
      },
      "id": "LiW0bLx79IlB",
      "execution_count": null,
      "outputs": [
        {
          "output_type": "execute_result",
          "data": {
            "text/plain": [
              "array(['Pass', 'Ball Receipt*', 'Carry', 'Pressure', 'Miscontrol', 'Duel',\n",
              "       'Interception', 'Goal Keeper', 'Clearance', 'Ball Recovery',\n",
              "       'Shot', 'Foul Committed', 'Foul Won', 'Dribbled Past', 'Dribble',\n",
              "       'Block', 'Dispossessed', 'Shield', '50/50', 'Offside',\n",
              "       'Referee Ball-Drop', 'Error', 'Own Goal For', 'Own Goal Against',\n",
              "       'Bad Behaviour'], dtype=object)"
            ]
          },
          "metadata": {},
          "execution_count": 17
        }
      ]
    },
    {
      "cell_type": "code",
      "source": [
        "tipo_eventos = df_events.type.unique()\n",
        "n_event_xtipo = []\n",
        "for event in tipo_eventos:\n",
        "  n_eventos = len(df_events[df_events.type==event])\n",
        "  n_event_xtipo.append(n_eventos)"
      ],
      "metadata": {
        "id": "tfmDn4DNDPKV"
      },
      "id": "tfmDn4DNDPKV",
      "execution_count": null,
      "outputs": []
    },
    {
      "cell_type": "code",
      "source": [],
      "metadata": {
        "id": "y7nAgxWG9HeU"
      },
      "id": "y7nAgxWG9HeU",
      "execution_count": null,
      "outputs": []
    },
    {
      "cell_type": "code",
      "source": [
        "varx = tipo_eventos[:17]\n",
        "vary = n_event_xtipo[:17]"
      ],
      "metadata": {
        "id": "eT5fxQ0yFJGc"
      },
      "id": "eT5fxQ0yFJGc",
      "execution_count": null,
      "outputs": []
    },
    {
      "cell_type": "code",
      "source": [
        "plt.figure(figsize=(10,4))\n",
        "plt.barh(varx, vary)\n",
        "plt.xlabel('Cantidad')\n",
        "plt.ylabel('Tipo de evento')\n",
        "plt.title ('Totalizado de eventos LaLiga 2015/2016',fontsize = 12)\n",
        "plt.show()"
      ],
      "metadata": {
        "colab": {
          "base_uri": "https://localhost:8080/",
          "height": 410
        },
        "id": "5SbeHnWBGH2k",
        "outputId": "5df22f67-b0c1-4f4b-b978-c5cc0c6c645b"
      },
      "id": "5SbeHnWBGH2k",
      "execution_count": null,
      "outputs": [
        {
          "output_type": "display_data",
          "data": {
            "text/plain": [
              "<Figure size 1000x400 with 1 Axes>"
            ],
            "image/png": "[encoded data removed]"
          },
          "metadata": {}
        }
      ]
    },
    {
      "cell_type": "code",
      "source": [],
      "metadata": {
        "id": "9n-Y-v6WFFMk"
      },
      "id": "9n-Y-v6WFFMk",
      "execution_count": null,
      "outputs": []
    },
    {
      "cell_type": "markdown",
      "id": "2c683810",
      "metadata": {
        "id": "2c683810"
      },
      "source": [
        "## LIMPIEZA DE DATOS"
      ]
    },
    {
      "cell_type": "code",
      "execution_count": null,
      "id": "5e680d4d",
      "metadata": {
        "id": "5e680d4d"
      },
      "outputs": [],
      "source": [
        "df_events = df_events[~df_events.location.isnull()] #requerimos eventos con localización de la acción\n",
        "df_events = df_events.reset_index(drop=True)"
      ]
    },
    {
      "cell_type": "code",
      "execution_count": null,
      "id": "fdcdc4a1",
      "metadata": {
        "id": "fdcdc4a1"
      },
      "outputs": [],
      "source": [
        "#creando 2 nuevas columnas con las posiciones x e y a partir de la columna posición\n",
        "df_events[['x', 'y']] = df_events['location'].apply(lambda x: pd.Series([x[0], x[1]]))"
      ]
    },
    {
      "cell_type": "code",
      "source": [
        "df_events[['type','x', 'y']].head(5)"
      ],
      "metadata": {
        "colab": {
          "base_uri": "https://localhost:8080/"
        },
        "id": "-KxsD8k0xt8_",
        "outputId": "4207bec7-fc78-47ca-ec40-e91dc2047950"
      },
      "id": "-KxsD8k0xt8_",
      "execution_count": null,
      "outputs": [
        {
          "output_type": "execute_result",
          "data": {
            "text/plain": [
              "   type     x     y\n",
              "0  Pass  61.0  40.1\n",
              "1  Pass  61.2  41.3\n",
              "2  Pass  49.2  33.5\n",
              "3  Pass  32.3  58.4\n",
              "4  Pass  40.5  76.1"
            ],
            "text/html": [
              "\n",
              "\n",
              "  <div id=\"df-073d2698-ddff-4d09-abcb-320adf476747\">\n",
              "    <div class=\"colab-df-container\">\n",
              "      <div>\n",
              "<style scoped>\n",
              "    .dataframe tbody tr th:only-of-type {\n",
              "        vertical-align: middle;\n",
              "    }\n",
              "\n",
              "    .dataframe tbody tr th {\n",
              "        vertical-align: top;\n",
              "    }\n",
              "\n",
              "    .dataframe thead th {\n",
              "        text-align: right;\n",
              "    }\n",
              "</style>\n",
              "<table border=\"1\" class=\"dataframe\">\n",
              "  <thead>\n",
              "    <tr style=\"text-align: right;\">\n",
              "      <th></th>\n",
              "      <th>type</th>\n",
              "      <th>x</th>\n",
              "      <th>y</th>\n",
              "    </tr>\n",
              "  </thead>\n",
              "  <tbody>\n",
              "    <tr>\n",
              "      <th>0</th>\n",
              "      <td>Pass</td>\n",
              "      <td>61.0</td>\n",
              "      <td>40.1</td>\n",
              "    </tr>\n",
              "    <tr>\n",
              "      <th>1</th>\n",
              "      <td>Pass</td>\n",
              "      <td>61.2</td>\n",
              "      <td>41.3</td>\n",
              "    </tr>\n",
              "    <tr>\n",
              "      <th>2</th>\n",
              "      <td>Pass</td>\n",
              "      <td>49.2</td>\n",
              "      <td>33.5</td>\n",
              "    </tr>\n",
              "    <tr>\n",
              "      <th>3</th>\n",
              "      <td>Pass</td>\n",
              "      <td>32.3</td>\n",
              "      <td>58.4</td>\n",
              "    </tr>\n",
              "    <tr>\n",
              "      <th>4</th>\n",
              "      <td>Pass</td>\n",
              "      <td>40.5</td>\n",
              "      <td>76.1</td>\n",
              "    </tr>\n",
              "  </tbody>\n",
              "</table>\n",
              "</div>\n",
              "      <button class=\"colab-df-convert\" onclick=\"convertToInteractive('df-073d2698-ddff-4d09-abcb-320adf476747')\"\n",
              "              title=\"Convert this dataframe to an interactive table.\"\n",
              "              style=\"display:none;\">\n",
              "\n",
              "  <svg xmlns=\"http://www.w3.org/2000/svg\" height=\"24px\"viewBox=\"0 0 24 24\"\n",
              "       width=\"24px\">\n",
              "    <path d=\"M0 0h24v24H0V0z\" fill=\"none\"/>\n",
              "    <path d=\"M18.56 5.44l.94 2.06.94-2.06 2.06-.94-2.06-.94-.94-2.06-.94 2.06-2.06.94zm-11 1L8.5 8.5l.94-2.06 2.06-.94-2.06-.94L8.5 2.5l-.94 2.06-2.06.94zm10 10l.94 2.06.94-2.06 2.06-.94-2.06-.94-.94-2.06-.94 2.06-2.06.94z\"/><path d=\"M17.41 7.96l-1.37-1.37c-.4-.4-.92-.59-1.43-.59-.52 0-1.04.2-1.43.59L10.3 9.45l-7.72 7.72c-.78.78-.78 2.05 0 2.83L4 21.41c.39.39.9.59 1.41.59.51 0 1.02-.2 1.41-.59l7.78-7.78 2.81-2.81c.8-.78.8-2.07 0-2.86zM5.41 20L4 18.59l7.72-7.72 1.47 1.35L5.41 20z\"/>\n",
              "  </svg>\n",
              "      </button>\n",
              "\n",
              "\n",
              "\n",
              "    <div id=\"df-8e0a5a00-76a0-426d-b5ec-fab1fe571732\">\n",
              "      <button class=\"colab-df-quickchart\" onclick=\"quickchart('df-8e0a5a00-76a0-426d-b5ec-fab1fe571732')\"\n",
              "              title=\"Suggest charts.\"\n",
              "              style=\"display:none;\">\n",
              "\n",
              "<svg xmlns=\"http://www.w3.org/2000/svg\" height=\"24px\"viewBox=\"0 0 24 24\"\n",
              "     width=\"24px\">\n",
              "    <g>\n",
              "        <path d=\"M19 3H5c-1.1 0-2 .9-2 2v14c0 1.1.9 2 2 2h14c1.1 0 2-.9 2-2V5c0-1.1-.9-2-2-2zM9 17H7v-7h2v7zm4 0h-2V7h2v10zm4 0h-2v-4h2v4z\"/>\n",
              "    </g>\n",
              "</svg>\n",
              "      </button>\n",
              "    </div>\n",
              "\n",
              "<style>\n",
              "  .colab-df-quickchart {\n",
              "    background-color: #E8F0FE;\n",
              "    border: none;\n",
              "    border-radius: 50%;\n",
              "    cursor: pointer;\n",
              "    display: none;\n",
              "    fill: #1967D2;\n",
              "    height: 32px;\n",
              "    padding: 0 0 0 0;\n",
              "    width: 32px;\n",
              "  }\n",
              "\n",
              "  .colab-df-quickchart:hover {\n",
              "    background-color: #E2EBFA;\n",
              "    box-shadow: 0px 1px 2px rgba(60, 64, 67, 0.3), 0px 1px 3px 1px rgba(60, 64, 67, 0.15);\n",
              "    fill: #174EA6;\n",
              "  }\n",
              "\n",
              "  [theme=dark] .colab-df-quickchart {\n",
              "    background-color: #3B4455;\n",
              "    fill: #D2E3FC;\n",
              "  }\n",
              "\n",
              "  [theme=dark] .colab-df-quickchart:hover {\n",
              "    background-color: #434B5C;\n",
              "    box-shadow: 0px 1px 3px 1px rgba(0, 0, 0, 0.15);\n",
              "    filter: drop-shadow(0px 1px 2px rgba(0, 0, 0, 0.3));\n",
              "    fill: #FFFFFF;\n",
              "  }\n",
              "</style>\n",
              "\n",
              "    <script>\n",
              "      async function quickchart(key) {\n",
              "        const containerElement = document.querySelector('#' + key);\n",
              "        const charts = await google.colab.kernel.invokeFunction(\n",
              "            'suggestCharts', [key], {});\n",
              "      }\n",
              "    </script>\n",
              "\n",
              "      <script>\n",
              "\n",
              "function displayQuickchartButton(domScope) {\n",
              "  let quickchartButtonEl =\n",
              "    domScope.querySelector('#df-8e0a5a00-76a0-426d-b5ec-fab1fe571732 button.colab-df-quickchart');\n",
              "  quickchartButtonEl.style.display =\n",
              "    google.colab.kernel.accessAllowed ? 'block' : 'none';\n",
              "}\n",
              "\n",
              "        displayQuickchartButton(document);\n",
              "      </script>\n",
              "      <style>\n",
              "    .colab-df-container {\n",
              "      display:flex;\n",
              "      flex-wrap:wrap;\n",
              "      gap: 12px;\n",
              "    }\n",
              "\n",
              "    .colab-df-convert {\n",
              "      background-color: #E8F0FE;\n",
              "      border: none;\n",
              "      border-radius: 50%;\n",
              "      cursor: pointer;\n",
              "      display: none;\n",
              "      fill: #1967D2;\n",
              "      height: 32px;\n",
              "      padding: 0 0 0 0;\n",
              "      width: 32px;\n",
              "    }\n",
              "\n",
              "    .colab-df-convert:hover {\n",
              "      background-color: #E2EBFA;\n",
              "      box-shadow: 0px 1px 2px rgba(60, 64, 67, 0.3), 0px 1px 3px 1px rgba(60, 64, 67, 0.15);\n",
              "      fill: #174EA6;\n",
              "    }\n",
              "\n",
              "    [theme=dark] .colab-df-convert {\n",
              "      background-color: #3B4455;\n",
              "      fill: #D2E3FC;\n",
              "    }\n",
              "\n",
              "    [theme=dark] .colab-df-convert:hover {\n",
              "      background-color: #434B5C;\n",
              "      box-shadow: 0px 1px 3px 1px rgba(0, 0, 0, 0.15);\n",
              "      filter: drop-shadow(0px 1px 2px rgba(0, 0, 0, 0.3));\n",
              "      fill: #FFFFFF;\n",
              "    }\n",
              "  </style>\n",
              "\n",
              "      <script>\n",
              "        const buttonEl =\n",
              "          document.querySelector('#df-073d2698-ddff-4d09-abcb-320adf476747 button.colab-df-convert');\n",
              "        buttonEl.style.display =\n",
              "          google.colab.kernel.accessAllowed ? 'block' : 'none';\n",
              "\n",
              "        async function convertToInteractive(key) {\n",
              "          const element = document.querySelector('#df-073d2698-ddff-4d09-abcb-320adf476747');\n",
              "          const dataTable =\n",
              "            await google.colab.kernel.invokeFunction('convertToInteractive',\n",
              "                                                     [key], {});\n",
              "          if (!dataTable) return;\n",
              "\n",
              "          const docLinkHtml = 'Like what you see? Visit the ' +\n",
              "            '<a target=\"_blank\" href=https://colab.research.google.com/notebooks/data_table.ipynb>data table notebook</a>'\n",
              "            + ' to learn more about interactive tables.';\n",
              "          element.innerHTML = '';\n",
              "          dataTable['output_type'] = 'display_data';\n",
              "          await google.colab.output.renderOutput(dataTable, element);\n",
              "          const docLink = document.createElement('div');\n",
              "          docLink.innerHTML = docLinkHtml;\n",
              "          element.appendChild(docLink);\n",
              "        }\n",
              "      </script>\n",
              "    </div>\n",
              "  </div>\n"
            ]
          },
          "metadata": {},
          "execution_count": 67
        }
      ]
    },
    {
      "cell_type": "code",
      "source": [
        "#from google.colab import drive\n",
        "#drive.mount('/content/drive')\n",
        "#ruta_archivo = '/content/drive/MyDrive/SDC - IA aplicada al deñorte/PFM/events_LaLiga_2015-2016.csv'\n",
        "#df_events.to_csv(ruta_archivo, index=False)"
      ],
      "metadata": {
        "id": "B6cuGtMZpPSK"
      },
      "id": "B6cuGtMZpPSK",
      "execution_count": null,
      "outputs": []
    },
    {
      "cell_type": "code",
      "source": [
        "#DATASET AÑADIENDO LAS POSICIONES FINALES DE LAS ACCIONES\n",
        "mask_type = (df_events.type== 'Pass')\n",
        "df_temp2 = df_events[mask_type]\n",
        "import ast\n",
        "#creando 2 nuevas columnas con las posiciones finales de los eventos\n",
        "def extract_values(row):\n",
        "      row_new = ast.literal_eval(row['pass_end_location']) #convertir de str a list\n",
        "      return row_new[0], row_new[1]\n",
        "# Aplicar la función a la columna 'location' y crear las nuevas columnas\n",
        "df_temp2[['x_end', 'y_end']] = df_temp2.apply(lambda row: pd.Series(extract_values(row)), axis=1)"
      ],
      "metadata": {
        "id": "8sZ7skHZbnJO"
      },
      "id": "8sZ7skHZbnJO",
      "execution_count": null,
      "outputs": []
    },
    {
      "cell_type": "code",
      "source": [
        "#ruta_archivo2 = '/content/drive/MyDrive/SDC - IA aplicada al deñorte/PFM/events_LaLiga_2015-2016_pass_end.csv'\n",
        "#df_temp2.to_csv(ruta_archivo2, index=False)"
      ],
      "metadata": {
        "id": "rnFJga1zbp7K"
      },
      "id": "rnFJga1zbp7K",
      "execution_count": null,
      "outputs": []
    },
    {
      "cell_type": "markdown",
      "source": [
        "##OBTENIENDO EVENTOS DE INTERES"
      ],
      "metadata": {
        "id": "E8MABaFcZg46"
      },
      "id": "E8MABaFcZg46"
    },
    {
      "cell_type": "code",
      "source": [
        "ruta_archivo = '/content/drive/MyDrive/SDC - IA aplicada al deñorte/PFM/events_LaLiga_2015-2016.csv'\n",
        "df_events = pd.read_csv(ruta_archivo)\n",
        "#columnas_borrar = ['x_end', 'y_end']\n",
        "#df_events = df_events.drop(columnas_borrar, axis=1)"
      ],
      "metadata": {
        "colab": {
          "base_uri": "https://localhost:8080/"
        },
        "id": "bNDDMfvNhpVu",
        "outputId": "dc8cd5ba-490a-40a1-bc7a-6709cee44db5"
      },
      "id": "bNDDMfvNhpVu",
      "execution_count": null,
      "outputs": [
        {
          "output_type": "stream",
          "name": "stderr",
          "text": [
            "<ipython-input-6-4aa27e8d20c5>:2: DtypeWarning: Columns (0,1,2,3,4,11,12,13,14,15,17,18,19,20,21,22,23,24,25,26,27,30,34,35,37,39,40,41,42,43,44,45,46,47,49,50,51,52,53,54,55,56,57,58,59,70,71,72,73,74,75,76,77,79,80,89,90,91,93,94,95,96,97,98,99,100,101,103,104,105,106,107,108,109,110,111,112) have mixed types. Specify dtype option on import or set low_memory=False.\n",
            "  df_events = pd.read_csv(ruta_archivo)\n"
          ]
        }
      ]
    },
    {
      "cell_type": "code",
      "source": [
        "\n",
        "df_events[df_events.type==:].value_counts()"
      ],
      "metadata": {
        "colab": {
          "base_uri": "https://localhost:8080/",
          "height": 135
        },
        "id": "Utf9-Dt-g3Da",
        "outputId": "c6671479-f12a-40d8-a945-4769ff8c7778"
      },
      "id": "Utf9-Dt-g3Da",
      "execution_count": null,
      "outputs": [
        {
          "output_type": "error",
          "ename": "SyntaxError",
          "evalue": "ignored",
          "traceback": [
            "\u001b[0;36m  File \u001b[0;32m\"<ipython-input-1-312d052c4e8e>\"\u001b[0;36m, line \u001b[0;32m1\u001b[0m\n\u001b[0;31m    df_events[df_events.type==:].value_counts()\u001b[0m\n\u001b[0m                              ^\u001b[0m\n\u001b[0;31mSyntaxError\u001b[0m\u001b[0;31m:\u001b[0m invalid syntax\n"
          ]
        }
      ]
    },
    {
      "cell_type": "code",
      "source": [
        "ruta_archivo2 = '/content/drive/MyDrive/SDC - IA aplicada al deñorte/PFM/events_LaLiga_2015-2016_pass_end.csv'\n",
        "df_temp2 = pd.read_csv(ruta_archivo2)"
      ],
      "metadata": {
        "id": "vARRvs5vnuQz"
      },
      "id": "vARRvs5vnuQz",
      "execution_count": null,
      "outputs": []
    },
    {
      "cell_type": "code",
      "source": [
        "df_temp2[['type','pass_type','pass_end_location','x_end', 'y_end']].tail(5)"
      ],
      "metadata": {
        "colab": {
          "base_uri": "https://localhost:8080/",
          "height": 206
        },
        "id": "iqo4yX_H1hG0",
        "outputId": "7af44e8e-c508-455c-d261-7727add11873"
      },
      "id": "iqo4yX_H1hG0",
      "execution_count": null,
      "outputs": [
        {
          "output_type": "execute_result",
          "data": {
            "text/plain": [
              "        type  pass_type pass_end_location  x_end  y_end\n",
              "365283  Pass        NaN      [82.6, 38.8]   82.6   38.8\n",
              "365284  Pass        NaN     [119.9, 53.5]  119.9   53.5\n",
              "365285  Pass  Goal Kick      [66.8, 35.2]   66.8   35.2\n",
              "365286  Pass   Recovery      [51.4, 33.0]   51.4   33.0\n",
              "365287  Pass        NaN      [59.4, 36.4]   59.4   36.4"
            ],
            "text/html": [
              "\n",
              "\n",
              "  <div id=\"df-7d65c20b-3dfb-426d-9170-39b2b1d6a888\">\n",
              "    <div class=\"colab-df-container\">\n",
              "      <div>\n",
              "<style scoped>\n",
              "    .dataframe tbody tr th:only-of-type {\n",
              "        vertical-align: middle;\n",
              "    }\n",
              "\n",
              "    .dataframe tbody tr th {\n",
              "        vertical-align: top;\n",
              "    }\n",
              "\n",
              "    .dataframe thead th {\n",
              "        text-align: right;\n",
              "    }\n",
              "</style>\n",
              "<table border=\"1\" class=\"dataframe\">\n",
              "  <thead>\n",
              "    <tr style=\"text-align: right;\">\n",
              "      <th></th>\n",
              "      <th>type</th>\n",
              "      <th>pass_type</th>\n",
              "      <th>pass_end_location</th>\n",
              "      <th>x_end</th>\n",
              "      <th>y_end</th>\n",
              "    </tr>\n",
              "  </thead>\n",
              "  <tbody>\n",
              "    <tr>\n",
              "      <th>365283</th>\n",
              "      <td>Pass</td>\n",
              "      <td>NaN</td>\n",
              "      <td>[82.6, 38.8]</td>\n",
              "      <td>82.6</td>\n",
              "      <td>38.8</td>\n",
              "    </tr>\n",
              "    <tr>\n",
              "      <th>365284</th>\n",
              "      <td>Pass</td>\n",
              "      <td>NaN</td>\n",
              "      <td>[119.9, 53.5]</td>\n",
              "      <td>119.9</td>\n",
              "      <td>53.5</td>\n",
              "    </tr>\n",
              "    <tr>\n",
              "      <th>365285</th>\n",
              "      <td>Pass</td>\n",
              "      <td>Goal Kick</td>\n",
              "      <td>[66.8, 35.2]</td>\n",
              "      <td>66.8</td>\n",
              "      <td>35.2</td>\n",
              "    </tr>\n",
              "    <tr>\n",
              "      <th>365286</th>\n",
              "      <td>Pass</td>\n",
              "      <td>Recovery</td>\n",
              "      <td>[51.4, 33.0]</td>\n",
              "      <td>51.4</td>\n",
              "      <td>33.0</td>\n",
              "    </tr>\n",
              "    <tr>\n",
              "      <th>365287</th>\n",
              "      <td>Pass</td>\n",
              "      <td>NaN</td>\n",
              "      <td>[59.4, 36.4]</td>\n",
              "      <td>59.4</td>\n",
              "      <td>36.4</td>\n",
              "    </tr>\n",
              "  </tbody>\n",
              "</table>\n",
              "</div>\n",
              "      <button class=\"colab-df-convert\" onclick=\"convertToInteractive('df-7d65c20b-3dfb-426d-9170-39b2b1d6a888')\"\n",
              "              title=\"Convert this dataframe to an interactive table.\"\n",
              "              style=\"display:none;\">\n",
              "\n",
              "  <svg xmlns=\"http://www.w3.org/2000/svg\" height=\"24px\"viewBox=\"0 0 24 24\"\n",
              "       width=\"24px\">\n",
              "    <path d=\"M0 0h24v24H0V0z\" fill=\"none\"/>\n",
              "    <path d=\"M18.56 5.44l.94 2.06.94-2.06 2.06-.94-2.06-.94-.94-2.06-.94 2.06-2.06.94zm-11 1L8.5 8.5l.94-2.06 2.06-.94-2.06-.94L8.5 2.5l-.94 2.06-2.06.94zm10 10l.94 2.06.94-2.06 2.06-.94-2.06-.94-.94-2.06-.94 2.06-2.06.94z\"/><path d=\"M17.41 7.96l-1.37-1.37c-.4-.4-.92-.59-1.43-.59-.52 0-1.04.2-1.43.59L10.3 9.45l-7.72 7.72c-.78.78-.78 2.05 0 2.83L4 21.41c.39.39.9.59 1.41.59.51 0 1.02-.2 1.41-.59l7.78-7.78 2.81-2.81c.8-.78.8-2.07 0-2.86zM5.41 20L4 18.59l7.72-7.72 1.47 1.35L5.41 20z\"/>\n",
              "  </svg>\n",
              "      </button>\n",
              "\n",
              "\n",
              "\n",
              "    <div id=\"df-0576c135-2ed8-4f66-9f50-5cb8c41e93d8\">\n",
              "      <button class=\"colab-df-quickchart\" onclick=\"quickchart('df-0576c135-2ed8-4f66-9f50-5cb8c41e93d8')\"\n",
              "              title=\"Suggest charts.\"\n",
              "              style=\"display:none;\">\n",
              "\n",
              "<svg xmlns=\"http://www.w3.org/2000/svg\" height=\"24px\"viewBox=\"0 0 24 24\"\n",
              "     width=\"24px\">\n",
              "    <g>\n",
              "        <path d=\"M19 3H5c-1.1 0-2 .9-2 2v14c0 1.1.9 2 2 2h14c1.1 0 2-.9 2-2V5c0-1.1-.9-2-2-2zM9 17H7v-7h2v7zm4 0h-2V7h2v10zm4 0h-2v-4h2v4z\"/>\n",
              "    </g>\n",
              "</svg>\n",
              "      </button>\n",
              "    </div>\n",
              "\n",
              "<style>\n",
              "  .colab-df-quickchart {\n",
              "    background-color: #E8F0FE;\n",
              "    border: none;\n",
              "    border-radius: 50%;\n",
              "    cursor: pointer;\n",
              "    display: none;\n",
              "    fill: #1967D2;\n",
              "    height: 32px;\n",
              "    padding: 0 0 0 0;\n",
              "    width: 32px;\n",
              "  }\n",
              "\n",
              "  .colab-df-quickchart:hover {\n",
              "    background-color: #E2EBFA;\n",
              "    box-shadow: 0px 1px 2px rgba(60, 64, 67, 0.3), 0px 1px 3px 1px rgba(60, 64, 67, 0.15);\n",
              "    fill: #174EA6;\n",
              "  }\n",
              "\n",
              "  [theme=dark] .colab-df-quickchart {\n",
              "    background-color: #3B4455;\n",
              "    fill: #D2E3FC;\n",
              "  }\n",
              "\n",
              "  [theme=dark] .colab-df-quickchart:hover {\n",
              "    background-color: #434B5C;\n",
              "    box-shadow: 0px 1px 3px 1px rgba(0, 0, 0, 0.15);\n",
              "    filter: drop-shadow(0px 1px 2px rgba(0, 0, 0, 0.3));\n",
              "    fill: #FFFFFF;\n",
              "  }\n",
              "</style>\n",
              "\n",
              "    <script>\n",
              "      async function quickchart(key) {\n",
              "        const containerElement = document.querySelector('#' + key);\n",
              "        const charts = await google.colab.kernel.invokeFunction(\n",
              "            'suggestCharts', [key], {});\n",
              "      }\n",
              "    </script>\n",
              "\n",
              "      <script>\n",
              "\n",
              "function displayQuickchartButton(domScope) {\n",
              "  let quickchartButtonEl =\n",
              "    domScope.querySelector('#df-0576c135-2ed8-4f66-9f50-5cb8c41e93d8 button.colab-df-quickchart');\n",
              "  quickchartButtonEl.style.display =\n",
              "    google.colab.kernel.accessAllowed ? 'block' : 'none';\n",
              "}\n",
              "\n",
              "        displayQuickchartButton(document);\n",
              "      </script>\n",
              "      <style>\n",
              "    .colab-df-container {\n",
              "      display:flex;\n",
              "      flex-wrap:wrap;\n",
              "      gap: 12px;\n",
              "    }\n",
              "\n",
              "    .colab-df-convert {\n",
              "      background-color: #E8F0FE;\n",
              "      border: none;\n",
              "      border-radius: 50%;\n",
              "      cursor: pointer;\n",
              "      display: none;\n",
              "      fill: #1967D2;\n",
              "      height: 32px;\n",
              "      padding: 0 0 0 0;\n",
              "      width: 32px;\n",
              "    }\n",
              "\n",
              "    .colab-df-convert:hover {\n",
              "      background-color: #E2EBFA;\n",
              "      box-shadow: 0px 1px 2px rgba(60, 64, 67, 0.3), 0px 1px 3px 1px rgba(60, 64, 67, 0.15);\n",
              "      fill: #174EA6;\n",
              "    }\n",
              "\n",
              "    [theme=dark] .colab-df-convert {\n",
              "      background-color: #3B4455;\n",
              "      fill: #D2E3FC;\n",
              "    }\n",
              "\n",
              "    [theme=dark] .colab-df-convert:hover {\n",
              "      background-color: #434B5C;\n",
              "      box-shadow: 0px 1px 3px 1px rgba(0, 0, 0, 0.15);\n",
              "      filter: drop-shadow(0px 1px 2px rgba(0, 0, 0, 0.3));\n",
              "      fill: #FFFFFF;\n",
              "    }\n",
              "  </style>\n",
              "\n",
              "      <script>\n",
              "        const buttonEl =\n",
              "          document.querySelector('#df-7d65c20b-3dfb-426d-9170-39b2b1d6a888 button.colab-df-convert');\n",
              "        buttonEl.style.display =\n",
              "          google.colab.kernel.accessAllowed ? 'block' : 'none';\n",
              "\n",
              "        async function convertToInteractive(key) {\n",
              "          const element = document.querySelector('#df-7d65c20b-3dfb-426d-9170-39b2b1d6a888');\n",
              "          const dataTable =\n",
              "            await google.colab.kernel.invokeFunction('convertToInteractive',\n",
              "                                                     [key], {});\n",
              "          if (!dataTable) return;\n",
              "\n",
              "          const docLinkHtml = 'Like what you see? Visit the ' +\n",
              "            '<a target=\"_blank\" href=https://colab.research.google.com/notebooks/data_table.ipynb>data table notebook</a>'\n",
              "            + ' to learn more about interactive tables.';\n",
              "          element.innerHTML = '';\n",
              "          dataTable['output_type'] = 'display_data';\n",
              "          await google.colab.output.renderOutput(dataTable, element);\n",
              "          const docLink = document.createElement('div');\n",
              "          docLink.innerHTML = docLinkHtml;\n",
              "          element.appendChild(docLink);\n",
              "        }\n",
              "      </script>\n",
              "    </div>\n",
              "  </div>\n"
            ]
          },
          "metadata": {},
          "execution_count": 23
        }
      ]
    },
    {
      "cell_type": "code",
      "source": [
        "teams = df_events.team.unique()\n",
        "teams"
      ],
      "metadata": {
        "id": "qDHKy790pysk",
        "colab": {
          "base_uri": "https://localhost:8080/"
        },
        "outputId": "d7813ce2-292f-4f3d-9a0c-ee9eb1fc2677"
      },
      "id": "qDHKy790pysk",
      "execution_count": null,
      "outputs": [
        {
          "output_type": "execute_result",
          "data": {
            "text/plain": [
              "array(['Eibar', 'Levante UD', 'Sevilla', 'Las Palmas', 'Getafe',\n",
              "       'RC Deportivo La Coruña', 'Málaga', 'Espanyol', 'Sporting Gijón',\n",
              "       'Villarreal', 'Rayo Vallecano', 'Real Betis', 'Real Madrid',\n",
              "       'Athletic Club', 'Atlético Madrid', 'Celta Vigo', 'Real Sociedad',\n",
              "       'Valencia', 'Granada', 'Barcelona'], dtype=object)"
            ]
          },
          "metadata": {},
          "execution_count": 21
        }
      ]
    },
    {
      "cell_type": "code",
      "source": [
        "def metric_total_train_test(df, metric_type, filtro=True, ubicacion='start'):\n",
        "  '''\n",
        "  Funcion que obtiene las posiones x,y donde se produce una determinada accion.\n",
        "  La salida de esta funcion es un arrary que contiene 625 array con 20 elementos\n",
        "  cada uno. Esto representa los 625 valores (heatmap de 25x25) de los 20 equipos\n",
        "  para esta métrica\n",
        "  '''\n",
        "  perc_train = 0.5\n",
        "  total_events = []\n",
        "  n_events_train = []\n",
        "  n_events_test = []\n",
        "  n_events = []\n",
        "  total_events_train = []\n",
        "  total_events_test = []\n",
        "\n",
        "  if ubicacion=='start':\n",
        "    x, y = 'x','y'\n",
        "  if ubicacion =='end':\n",
        "    x, y = 'x_end','y_end'\n",
        "\n",
        "  for i in range(len(teams)):\n",
        "      #eventos correspondientes a esta metrica\n",
        "      mask_team = (df.team==teams[i])\n",
        "      mask_type = (df.type== metric_type) & filtro\n",
        "      df_temp = df[mask_team&mask_type]\n",
        "      xx = df_temp[x]\n",
        "      yy = df_temp[y]\n",
        "      #para verificar precisión con MRR\n",
        "      nn = len(xx)\n",
        "      n_grupo1 = int(nn*perc_train)\n",
        "      x_train = xx[:n_grupo1]\n",
        "      x_test = xx[n_grupo1:]\n",
        "      y_train = yy[:n_grupo1]\n",
        "      y_test = yy[n_grupo1:]\n",
        "      #numero de eventos\n",
        "      n_events.append(nn)\n",
        "      nn_train = len(x_train)\n",
        "      n_events_train.append(nn_train)\n",
        "      nn_test = len(x_test)\n",
        "      n_events_test.append(nn_test)\n",
        "      #convirtiendo a vector de heatmap - TOTAL\n",
        "      pitch = Pitch(pitch_type='statsbomb', line_zorder=2, pitch_color='#22312b', line_color='#efefef')\n",
        "      bin_statistic = pitch.bin_statistic(xx, yy, statistic='count', bins=(25, 25))\n",
        "      heatmap_values = bin_statistic['statistic']\n",
        "      heatmap_values = np.array(heatmap_values)/38\n",
        "      heatmap_values = gaussian_filter(heatmap_values, 1)\n",
        "      #convirtiendo a vector de heatmap - TRAIN\n",
        "      pitch = Pitch(pitch_type='statsbomb', line_zorder=2, pitch_color='#22312b', line_color='#efefef')\n",
        "      bin_statistic_train = pitch.bin_statistic(x_train, y_train, statistic='count', bins=(25, 25))\n",
        "      heatmap_values_train = bin_statistic_train['statistic']\n",
        "      heatmap_values_train = np.array(heatmap_values_train)/(38*perc_train)\n",
        "      heatmap_values_train = gaussian_filter(heatmap_values_train, 1)\n",
        "      #convirtiendo a vector de heatmap - TEST\n",
        "      pitch = Pitch(pitch_type='statsbomb', line_zorder=2, pitch_color='#22312b', line_color='#efefef')\n",
        "      bin_statistic_test = pitch.bin_statistic(x_test, y_test, statistic='count', bins=(25, 25))\n",
        "      heatmap_values_test = bin_statistic_test['statistic']\n",
        "      heatmap_values_test = np.array(heatmap_values_test)/(38*(1-perc_train))\n",
        "      heatmap_values_test = gaussian_filter(heatmap_values_test, 1)\n",
        "      #---------- convertir y unir\n",
        "      heatmap_values = heatmap_values.reshape(625,1)\n",
        "      total_events.append(heatmap_values)\n",
        "      #train y test\n",
        "      heatmap_values_train = heatmap_values_train.reshape(625,1)\n",
        "      total_events_train.append(heatmap_values_train)\n",
        "      heatmap_values_test = heatmap_values_test.reshape(625,1)\n",
        "      total_events_test.append(heatmap_values_test)\n",
        "\n",
        "  total_events = np.hstack(total_events)\n",
        "  total_events_train = np.hstack(total_events_train)\n",
        "  total_events_test = np.hstack(total_events_test)\n",
        "\n",
        "  return total_events, total_events_train, total_events_test, np.array(n_events_train), np.array(n_events_test)"
      ],
      "metadata": {
        "id": "zoCB7oU2PKFc"
      },
      "id": "zoCB7oU2PKFc",
      "execution_count": null,
      "outputs": []
    },
    {
      "cell_type": "markdown",
      "id": "ddc07daa",
      "metadata": {
        "id": "ddc07daa"
      },
      "source": [
        "### MÉTRICAS EN POSESIÓN DE BALÓN"
      ]
    },
    {
      "cell_type": "code",
      "source": [
        "#DISPAROS\n",
        "total_shots, total_shots_train, total_shots_test, n_shots_train, n_shots_test = metric_total_train_test(df_events, 'Shot')\n",
        "#DRIBBLE\n",
        "total_dribble, total_dribble_train, total_dribble_test, n_dribble_train, n_dribble_test = metric_total_train_test(df_events, 'Dribble')\n",
        "#ASISTENCIA DE TIRO (openplay)\n",
        "total_ass_shot, total_astshot_train, total_astshot_test, n_astshot_train, n_astshot_test = metric_total_train_test(df_events, 'Pass', (df_events.pass_shot_assist==True)&(df_events.pass_type!='Throw-in')&(df_events.pass_type!='Corner')&(df_events.pass_type!='Free Kick'))\n",
        "#CENTROS(openplay)\n",
        "total_cross, total_cross_train, total_cross_test, n_cross_train, n_cross_test = metric_total_train_test(df_events, 'Pass', (df_events.pass_cross==True)&(df_events.pass_type!='Throw-in')&(df_events.pass_type!='Corner')&(df_events.pass_type!='Free Kick'))\n",
        "#PASE HACIA ULTIMA ZONA DEL CAMPO\n",
        "total_toendzone, total_toendzone_train, total_toendzone_test, n_toendzone_train, n_toendzone_test = metric_total_train_test(df_temp2, 'Pass', (df_temp2.x_end>=100)&(df_temp2.pass_type!='Throw-in')&(df_temp2.pass_type!='Corner')&(df_temp2.pass_type!='Free Kick'), 'end')\n",
        "#SAQUES DE META (hacia donde se lanzan)\n",
        "total_goalkick, total_goalkick_train, total_goalkick_test, n_goalkick_train, n_goalkick_test = metric_total_train_test(df_temp2, 'Pass', (df_temp2.pass_type=='Goal Kick'), 'end')\n",
        "#PASES PERDIDOS EN PROPIO CAMPO (openplay)\n",
        "total_passlost, total_passlost_train, total_passlost_test, n_passlost_train, n_passlost_test = metric_total_train_test(df_events, 'Pass', (df_events.pass_outcome=='Incomplete')&(df_events.x<=60)&(df_events.pass_type!='Throw-in')&(df_events.pass_type!='Free Kick'))\n",
        "#pases aereos\n",
        "total_passaereo, total_passaereo_train, total_passaereo_test, n_passaereo_train, n_passaereo_test = metric_total_train_test(df_events, 'Pass', (df_events.pass_height=='High Pass')&(df_events.pass_type!='Throw-in')&(df_events.pass_type!='Free Kick')&(df_events.pass_type!='Corner'))\n",
        "#Corneres (hacia donde se lanzan)\n",
        "total_corner, total_corner_train, total_corner_test, n_corner_train, n_corner_test = metric_total_train_test(df_temp2, 'Pass', (df_temp2.pass_type=='Corner'), 'end')\n"
      ],
      "metadata": {
        "id": "8vBPTU1-Ra8j"
      },
      "id": "8vBPTU1-Ra8j",
      "execution_count": null,
      "outputs": []
    },
    {
      "cell_type": "markdown",
      "id": "ad18b134",
      "metadata": {
        "id": "ad18b134"
      },
      "source": [
        "### MÉTRICAS SIN BALÓN"
      ]
    },
    {
      "cell_type": "code",
      "source": [
        "#RECUPERACIONES\n",
        "total_recupera, total_recupera_train, total_recupera_test, n_recupera_train, n_recupera_test= metric_total_train_test(df_events, 'Ball Recovery', df_events.position!='Goalkeeper')\n",
        "#PRESION\n",
        "total_presion, total_presion_train, total_presion_test, n_presion_train, n_presion_test= metric_total_train_test(df_events,'Pressure')\n",
        "#FALTAS COMETIDAS\n",
        "total_faltas, total_faltas_train, total_faltas_test, n_faltas_train, n_faltas_test = metric_total_train_test(df_events, 'Foul Committed')\n",
        "#DRIBBLE RECIBIDO\n",
        "total_dribblerecib, total_dribblerecib_train, total_dribblerecib_test, n_dribblerecib_train, n_dribblerecib_test = metric_total_train_test(df_events, 'Dribbled Past')\n"
      ],
      "metadata": {
        "id": "Ohc7G2bATp1O"
      },
      "id": "Ohc7G2bATp1O",
      "execution_count": null,
      "outputs": []
    },
    {
      "cell_type": "markdown",
      "source": [
        "## SUPRESIÓN DE FUERZA DEL EQUIPO"
      ],
      "metadata": {
        "id": "CN3mJ4i5uhGx"
      },
      "id": "CN3mJ4i5uhGx"
    },
    {
      "cell_type": "code",
      "source": [
        "# FUNCION SUPRESION DE FUERZA\n",
        "def supresion_fuerza(array_event, ratio_event):\n",
        "  '''\n",
        "  array_evento debe tener una dimension de (625,20)\n",
        "  n_event es el numero de\n",
        "  '''\n",
        "  event_frelativa = np.empty((0, 20))\n",
        "  for k in range(array_event.shape[0]):\n",
        "    vector = array_event[k]*ratio_event\n",
        "    event_frelativa = np.vstack((event_frelativa, vector))\n",
        "  return event_frelativa"
      ],
      "metadata": {
        "id": "yeuXdI-Da27G"
      },
      "id": "yeuXdI-Da27G",
      "execution_count": null,
      "outputs": []
    },
    {
      "cell_type": "code",
      "source": [
        "#EVENTOS CON BALON\n",
        "#ratios\n",
        "nevents_inpos_train = n_shots_train+n_dribble_train+n_astshot_train+n_cross_train+n_toendzone_train+n_goalkick_train+n_passlost_train+n_passaereo_train+n_corner_train\n",
        "nevents_inpos_test = n_shots_test+n_dribble_test+n_astshot_test+n_cross_test+n_toendzone_train+n_goalkick_test+n_passlost_test+n_passaereo_test+n_corner_test\n",
        "\n",
        "ratio_shots_train = n_shots_train/ nevents_inpos_train\n",
        "ratio_shots_test = n_shots_train/ nevents_inpos_test\n",
        "ratio_dribble_train = n_dribble_train/ nevents_inpos_train\n",
        "ratio_dribble_test = n_dribble_test/ nevents_inpos_test\n",
        "ratio_astshot_train = n_astshot_train/ nevents_inpos_train\n",
        "ratio_astshot_test = n_astshot_test/ nevents_inpos_test\n",
        "ratio_cross_train = n_cross_train/nevents_inpos_train\n",
        "ratio_cross_test = n_cross_test/nevents_inpos_test\n",
        "ratio_toendzone_train = n_toendzone_train/nevents_inpos_train\n",
        "ratio_toendzone_test = n_toendzone_test/nevents_inpos_test\n",
        "ratio_goalkick_train = n_goalkick_train/nevents_inpos_train\n",
        "ratio_goalkick_test = n_goalkick_test/nevents_inpos_test\n",
        "ratio_passlost_train = n_passlost_train/nevents_inpos_train\n",
        "ratio_passlost_test = n_passlost_test/nevents_inpos_test\n",
        "ratio_passaereo_train = n_passaereo_train/nevents_inpos_train\n",
        "ratio_passaereo_test = n_passaereo_test/nevents_inpos_test\n",
        "ratio_corner_train = n_corner_train/nevents_inpos_train\n",
        "ratio_corner_test = n_corner_test/nevents_inpos_test\n",
        "\n",
        "# Aplicando supresión de fuerza\n",
        "total_shots_train = supresion_fuerza(total_shots_train, ratio_shots_train)\n",
        "total_shots_test = supresion_fuerza(total_shots_test, ratio_shots_test)\n",
        "total_dribble_train = supresion_fuerza(total_dribble_train, ratio_dribble_train)\n",
        "total_dribble_test = supresion_fuerza(total_dribble_test, ratio_dribble_test)\n",
        "total_astshot_train = supresion_fuerza(total_astshot_train, ratio_astshot_train)\n",
        "total_astshot_test = supresion_fuerza(total_astshot_test, ratio_astshot_test)\n",
        "total_cross_train = supresion_fuerza(total_cross_train, ratio_cross_train)\n",
        "total_cross_test = supresion_fuerza(total_cross_test, ratio_cross_test)\n",
        "total_toendzone_train = supresion_fuerza(total_toendzone_train, ratio_toendzone_train)\n",
        "total_toendzone_test = supresion_fuerza(total_toendzone_test, ratio_toendzone_test)\n",
        "total_goalkick_train = supresion_fuerza(total_goalkick_train, ratio_goalkick_train)\n",
        "total_goalkick_test = supresion_fuerza(total_goalkick_test, ratio_goalkick_test)\n",
        "total_passlost_train = supresion_fuerza(total_passlost_train, ratio_passlost_train)\n",
        "total_passlost_test = supresion_fuerza(total_passlost_test, ratio_passlost_test)\n",
        "total_passaereo_train = supresion_fuerza(total_passaereo_train, ratio_passaereo_train)\n",
        "total_passaereo_test = supresion_fuerza(total_passaereo_test, ratio_passaereo_test)\n",
        "total_corner_train = supresion_fuerza(total_corner_train, ratio_corner_train)\n",
        "total_corner_test = supresion_fuerza(total_corner_test, ratio_corner_test)"
      ],
      "metadata": {
        "id": "UzEy-nkXOLlX"
      },
      "id": "UzEy-nkXOLlX",
      "execution_count": null,
      "outputs": []
    },
    {
      "cell_type": "code",
      "source": [
        "print(ratio_shots_train.mean(), ratio_dribble_train.mean(), ratio_astshot_train.mean(), ratio_cross_train.mean(),\n",
        "      ratio_toendzone_train.mean(), ratio_goalkick_train.mean(), ratio_passlost_train.mean())"
      ],
      "metadata": {
        "colab": {
          "base_uri": "https://localhost:8080/"
        },
        "id": "QtE62Gy7txUg",
        "outputId": "6ede0474-cb67-4c36-a035-f4915e678256"
      },
      "id": "QtE62Gy7txUg",
      "execution_count": null,
      "outputs": [
        {
          "output_type": "stream",
          "name": "stdout",
          "text": [
            "0.07752356884154557 0.12386131115285197 0.04084564734704519 0.07421200479290688 0.330838145483887 0.05259678651640608 0.3001225358653573\n"
          ]
        }
      ]
    },
    {
      "cell_type": "code",
      "source": [
        "#EVENTOS SIN BALON\n",
        "#ratios\n",
        "nevents_inposrival = []\n",
        "for equipo in teams:\n",
        "  match_equipo = df_events[df_events.team==equipo].match_id.unique()\n",
        "  df_equipo = df_events[df_events.match_id.isin(match_equipo)]\n",
        "  df_noEquipo = df_equipo[df_equipo.team!=equipo][['team','type']]\n",
        "  n_inrival = len(df_noEquipo[df_noEquipo.type.isin(['Pass', 'Shot', 'Dribble'])])\n",
        "  nevents_inposrival.append(n_inrival)\n",
        "nevents_inposrival = np.array(nevents_inposrival)*0.6\n",
        "\n",
        "'''\n",
        "nevents_outpos_train = n_recupera_train + n_presion_train + n_faltas_train + n_dribblerecib_train\n",
        "nevents_outpos_test = n_recupera_test + n_presion_test + n_faltas_test + n_dribblerecib_test\n",
        "\n",
        "ratio_recupera_train = n_recupera_train/nevents_outpos_train\n",
        "ratio_recupera_test = n_recupera_test/nevents_outpos_test\n",
        "ratio_presion_train = n_presion_train/nevents_outpos_train\n",
        "ratio_presion_test = n_presion_test/nevents_outpos_test\n",
        "ratio_faltas_train = n_faltas_train/nevents_outpos_train\n",
        "ratio_faltas_test = n_faltas_test/nevents_outpos_test\n",
        "ratio_dribblerecib_train = n_dribblerecib_train/nevents_outpos_train\n",
        "ratio_dribblerecib_test = n_dribblerecib_test/nevents_outpos_test\n",
        "'''"
      ],
      "metadata": {
        "id": "fEEd90lMbB4g",
        "colab": {
          "base_uri": "https://localhost:8080/"
        },
        "outputId": "7392a69b-1e0b-41fe-afb3-3e71c8741a67"
      },
      "id": "fEEd90lMbB4g",
      "execution_count": null,
      "outputs": [
        {
          "output_type": "execute_result",
          "data": {
            "text/plain": [
              "'\\nnevents_outpos_train = n_recupera_train + n_presion_train + n_faltas_train + n_dribblerecib_train\\nnevents_outpos_test = n_recupera_test + n_presion_test + n_faltas_test + n_dribblerecib_test\\n\\nratio_recupera_train = n_recupera_train/nevents_outpos_train\\nratio_recupera_test = n_recupera_test/nevents_outpos_test\\nratio_presion_train = n_presion_train/nevents_outpos_train\\nratio_presion_test = n_presion_test/nevents_outpos_test\\nratio_faltas_train = n_faltas_train/nevents_outpos_train\\nratio_faltas_test = n_faltas_test/nevents_outpos_test\\nratio_dribblerecib_train = n_dribblerecib_train/nevents_outpos_train\\nratio_dribblerecib_test = n_dribblerecib_test/nevents_outpos_test\\n'"
            ],
            "application/vnd.google.colaboratory.intrinsic+json": {
              "type": "string"
            }
          },
          "metadata": {},
          "execution_count": 44
        }
      ]
    },
    {
      "cell_type": "code",
      "source": [
        "ratio_recupera_train = n_recupera_train/(nevents_inposrival*0.5)\n",
        "ratio_recupera_test = n_recupera_test/(nevents_inposrival*0.5)\n",
        "ratio_presion_train = n_presion_train/(nevents_inposrival*0.5)\n",
        "ratio_presion_test = n_presion_test/(nevents_inposrival*0.5)\n",
        "ratio_faltas_train = n_faltas_train/(nevents_inposrival*0.5)\n",
        "ratio_faltas_test = n_faltas_test/(nevents_inposrival*0.5)\n",
        "ratio_dribblerecib_train = n_dribblerecib_train/(nevents_inposrival*0.5)\n",
        "ratio_dribblerecib_test = n_dribblerecib_test/(nevents_inposrival*0.5)\n",
        "\n",
        "# Aplicando supresión de fuerza\n",
        "total_recupera_train = supresion_fuerza(total_recupera_train, ratio_recupera_train)\n",
        "total_recupera_test = supresion_fuerza(total_recupera_test, ratio_recupera_test)\n",
        "total_presion_train = supresion_fuerza(total_presion_train, ratio_presion_train)\n",
        "total_presion_test = supresion_fuerza(total_presion_test, ratio_presion_test)\n",
        "total_faltas_train = supresion_fuerza(total_faltas_train, ratio_faltas_train)\n",
        "total_faltas_test = supresion_fuerza(total_faltas_test, ratio_faltas_test)\n",
        "total_dribblerecib_train = supresion_fuerza(total_dribblerecib_train, ratio_dribblerecib_train)\n",
        "total_dribblerecib_test = supresion_fuerza(total_dribblerecib_test, ratio_dribblerecib_test)"
      ],
      "metadata": {
        "id": "l-_aXZdfd-X5"
      },
      "id": "l-_aXZdfd-X5",
      "execution_count": null,
      "outputs": []
    },
    {
      "cell_type": "markdown",
      "source": [
        "## COMPROBANDO SI LA DIVISIÓN DE DATASET FUE BALANCEADA"
      ],
      "metadata": {
        "id": "lJnsWTNzPK0v"
      },
      "id": "lJnsWTNzPK0v"
    },
    {
      "cell_type": "code",
      "source": [
        "dif_div_shots = np.mean(np.abs(ratio_shots_train-ratio_shots_test))*100\n",
        "print(f'La diferencia entre los porcentajes que ocupan los TIROS en ambos grupos de eventos es de {dif_div_shots}%')\n",
        "dif_div_dribble = np.mean(np.abs(ratio_dribble_train-ratio_dribble_test))*100\n",
        "print(f'La diferencia entre los porcentajes que ocupan los DRIBBLEs en ambos grupos de eventos es de {dif_div_dribble}%')\n",
        "dif_div_astshot = np.mean(np.abs(ratio_astshot_train-ratio_astshot_test))*100\n",
        "print(f'La diferencia entre los porcentajes que ocupan las ASIS. DE TIRO en ambos grupos de eventos es de {dif_div_astshot}%')\n",
        "dif_div_cross = np.mean(np.abs(ratio_cross_train-ratio_cross_test))*100\n",
        "print(f'La diferencia entre los porcentajes que ocupan los CENTROS en ambos grupos de eventos es de {dif_div_cross}%')\n",
        "dif_div_toendzone = np.mean(np.abs(ratio_toendzone_train-ratio_toendzone_test))*100\n",
        "print(f'La diferencia entre los porcentajes que ocupan los PASES HACIA ULTIMO 5TO en ambos grupos de eventos es de {dif_div_toendzone}%')\n",
        "dif_div_goalkick = np.mean(np.abs(ratio_goalkick_train-ratio_goalkick_test))*100\n",
        "print(f'La diferencia entre los porcentajes que ocupan los SAQUES DE META en ambos grupos de eventos es de {dif_div_goalkick}%')\n",
        "dif_div_passlost = np.mean(np.abs(ratio_passlost_train-ratio_passlost_test))*100\n",
        "print(f'La diferencia entre los porcentajes que ocupan los PASES FALLADOS EN CAMPO PROPIO en ambos grupos de eventos es de {dif_div_passlost}%')"
      ],
      "metadata": {
        "colab": {
          "base_uri": "https://localhost:8080/"
        },
        "id": "04g_OHIPPHRG",
        "outputId": "ccfff54a-09ea-4ec5-fcb5-a5a5b0688cc4"
      },
      "id": "04g_OHIPPHRG",
      "execution_count": null,
      "outputs": [
        {
          "output_type": "stream",
          "name": "stdout",
          "text": [
            "La diferencia entre los porcentajes que ocupan los TIROS en ambos grupos de eventos es de 0.007915111887786194%\n",
            "La diferencia entre los porcentajes que ocupan los DRIBBLEs en ambos grupos de eventos es de 0.013445287760313547%\n",
            "La diferencia entre los porcentajes que ocupan las ASIS. DE TIRO en ambos grupos de eventos es de 0.017359324663682937%\n",
            "La diferencia entre los porcentajes que ocupan los CENTROS en ambos grupos de eventos es de 0.01888556234728573%\n",
            "La diferencia entre los porcentajes que ocupan los PASES HACIA ULTIMO 5TO en ambos grupos de eventos es de 0.02610113672751963%\n",
            "La diferencia entre los porcentajes que ocupan los SAQUES DE META en ambos grupos de eventos es de 0.010242092374983351%\n",
            "La diferencia entre los porcentajes que ocupan los PASES FALLADOS EN CAMPO PROPIO en ambos grupos de eventos es de 0.021846411721266334%\n"
          ]
        }
      ]
    },
    {
      "cell_type": "markdown",
      "source": [
        "Podemos concluir que la divisón fue balanceada, ya que la diferencia es en promedio menos del 0.05% en todos los casos"
      ],
      "metadata": {
        "id": "m2csfLXdRnhv"
      },
      "id": "m2csfLXdRnhv"
    },
    {
      "cell_type": "markdown",
      "id": "c95e4694",
      "metadata": {
        "id": "c95e4694"
      },
      "source": [
        "## DESCOMPOSICIÓN MEDIANTE NMF"
      ]
    },
    {
      "cell_type": "markdown",
      "source": [
        "### Funciones"
      ],
      "metadata": {
        "id": "JgWwfsXhgwfi"
      },
      "id": "JgWwfsXhgwfi"
    },
    {
      "cell_type": "code",
      "execution_count": null,
      "id": "5b3c3888",
      "metadata": {
        "id": "5b3c3888"
      },
      "outputs": [],
      "source": [
        "def NMF(matriz, n_comp):\n",
        "\n",
        "  #quitarle la parte de max val que solo sirve para graficar\n",
        "    from sklearn.decomposition import non_negative_factorization\n",
        "    W, H, n_iter = non_negative_factorization(matriz, n_components=n_comp, init='random', random_state=0)\n",
        "\n",
        "    W1 = W[:,0].reshape(25,25)\n",
        "    H1 = H[0]\n",
        "    X1 = (W1*H1.mean())\n",
        "    W2 = W[:,1].reshape(25,25)\n",
        "    H2 = H[1]\n",
        "    X2 = (W2*H2.mean())\n",
        "    W3 = W[:,2].reshape(25,25)\n",
        "    H3 = H[2]\n",
        "    X3 = (W3*H3.mean())\n",
        "    #artificio grafico\n",
        "    max_val = max(np.amax(X1), np.amax(X2), np.amax(X3))\n",
        "    X1_prima=X1\n",
        "    X2_prima=X2\n",
        "    X3_prima=X3\n",
        "    X1_prima[0][0] = max_val\n",
        "    X2_prima[0][0] = max_val\n",
        "    X3_prima[0][0] = max_val\n",
        "    components = [X1_prima, X2_prima, X3_prima]\n",
        "\n",
        "    if n_comp==3:\n",
        "        return [H1, H2, H3]\n",
        "\n",
        "    if n_comp==4:\n",
        "        W4 = W[:,3].reshape(25,25)\n",
        "        H4 = H[3]\n",
        "        X4 = (W4*H4.mean())\n",
        "        max_val = max(np.amax(X1), np.amax(X2), np.amax(X3),np.amax(X4))\n",
        "        X4_prima=X4\n",
        "        X1_prima[0][0] = max_val\n",
        "        X2_prima[0][0] = max_val\n",
        "        X3_prima[0][0] = max_val\n",
        "        X4_prima[0][0] = max_val\n",
        "        components = [X1_prima, X2_prima, X3_prima, X4_prima]\n",
        "        return [H1, H2, H3, H4]\n",
        "\n",
        "    if n_comp==5:\n",
        "        W4 = W[:,3].reshape(25,25)\n",
        "        H4 = H[3]\n",
        "        X4 = (W4*H4.mean())\n",
        "        W5 = W[:,4].reshape(25,25)\n",
        "        H5 = H[4]\n",
        "        X5 = (W5*H5.mean())\n",
        "        max_val = max(np.amax(X1), np.amax(X2), np.amax(X3),np.amax(X4), np.amax(X5))\n",
        "        X4_prima=X4\n",
        "        X5_prima=X5\n",
        "        X1_prima[0][0] = max_val\n",
        "        X2_prima[0][0] = max_val\n",
        "        X3_prima[0][0] = max_val\n",
        "        X4_prima[0][0] = max_val\n",
        "        X5_prima[0][0] = max_val\n",
        "        components = [X1_prima, X2_prima, X3_prima, X4_prima, X5_prima]\n",
        "        return [H1, H2, H3, H4, H5]"
      ]
    },
    {
      "cell_type": "code",
      "source": [
        "\n",
        "def nmf_grafico(matriz, n_comp):\n",
        "\n",
        "    from sklearn.decomposition import non_negative_factorization\n",
        "    W, H, n_iter = non_negative_factorization(matriz, n_components=n_comp, init='random', random_state=0)\n",
        "\n",
        "    W1 = W[:,0].reshape(25,25)\n",
        "    H1 = H[0]\n",
        "    X1 = (W1*H1.mean())\n",
        "    W2 = W[:,1].reshape(25,25)\n",
        "    H2 = H[1]\n",
        "    X2 = (W2*H2.mean())\n",
        "    W3 = W[:,2].reshape(25,25)\n",
        "    H3 = H[2]\n",
        "    X3 = (W3*H3.mean())\n",
        "\n",
        "    #artificio grafico\n",
        "    max_val = max(np.amax(X1), np.amax(X2), np.amax(X3))\n",
        "    X1_prima=X1\n",
        "    X2_prima=X2\n",
        "    X3_prima=X3\n",
        "    X1_prima[0][0] = max_val\n",
        "    X2_prima[0][0] = max_val\n",
        "    X3_prima[0][0] = max_val\n",
        "    components = [X1_prima, X2_prima, X3_prima]\n",
        "\n",
        "    if n_comp==3:\n",
        "      pass\n",
        "    if n_comp==4:\n",
        "        W4 = W[:,3].reshape(25,25)\n",
        "        H4 = H[3]\n",
        "        X4 = (W4*H4.mean())\n",
        "        max_val = max(np.amax(X1), np.amax(X2), np.amax(X3),np.amax(X4))\n",
        "        X4_prima=X4\n",
        "        X1_prima[0][0] = max_val\n",
        "        X2_prima[0][0] = max_val\n",
        "        X3_prima[0][0] = max_val\n",
        "        X4_prima[0][0] = max_val\n",
        "        components = [X1_prima, X2_prima, X3_prima, X4_prima]\n",
        "\n",
        "    if n_comp==5:\n",
        "        W4 = W[:,3].reshape(25,25)\n",
        "        H4 = H[3]\n",
        "        X4 = (W4*H4.mean())\n",
        "        W5 = W[:,4].reshape(25,25)\n",
        "        H5 = H[4]\n",
        "        X5 = (W5*H5.mean())\n",
        "        max_val = max(np.amax(X1), np.amax(X2), np.amax(X3),np.amax(X4), np.amax(X5))\n",
        "        X4_prima=X4\n",
        "        X5_prima=X5\n",
        "        X1_prima[0][0] = max_val\n",
        "        X2_prima[0][0] = max_val\n",
        "        X3_prima[0][0] = max_val\n",
        "        X4_prima[0][0] = max_val\n",
        "        X5_prima[0][0] = max_val\n",
        "        components = [X1_prima, X2_prima, X3_prima, X4_prima, X5_prima]\n",
        "\n",
        "    for i in components:\n",
        "        # setup pitch\n",
        "        pitch = Pitch(pitch_type='statsbomb', line_zorder=2,\n",
        "                      pitch_color='#22312b', line_color='#efefef')\n",
        "        # draw\n",
        "        fig, ax = pitch.draw(figsize=(4.2, 3.1))\n",
        "        fig.set_facecolor('#22312b')\n",
        "        bin_statistic = pitch.bin_statistic(i[0], i[1], statistic='count', bins=(25, 25))\n",
        "        bin_statistic['statistic'] = i\n",
        "        #bin_statistic['statistic'] = gaussian_filter(bin_statistic['statistic'], 1)\n",
        "        pcm = pitch.heatmap(bin_statistic, ax=ax, cmap='hot', edgecolors='#22312b')\n",
        "        # Add the colorbar and format off-white\n",
        "        cbar = fig.colorbar(pcm, ax=ax, shrink=0.6)\n",
        "        cbar.outline.set_edgecolor('#efefef')\n",
        "        cbar.ax.yaxis.set_tick_params(color='#efefef')\n",
        "        ticks = plt.setp(plt.getp(cbar.ax.axes, 'yticklabels'), color='#efefef')\n"
      ],
      "metadata": {
        "id": "jF5blTgn9Uck"
      },
      "id": "jF5blTgn9Uck",
      "execution_count": null,
      "outputs": []
    },
    {
      "cell_type": "markdown",
      "id": "780d0b96",
      "metadata": {
        "id": "780d0b96"
      },
      "source": [
        "### Gráficos de ejemplo"
      ]
    },
    {
      "cell_type": "code",
      "execution_count": null,
      "id": "c991c3e9",
      "metadata": {
        "id": "c991c3e9"
      },
      "outputs": [],
      "source": [
        "#Ejemplo visual de una descomposicon de mapa de calor mediante NMF\n",
        "#La funcion \"nmf_grafico\" a parte de dar los valores de H (componentes), grafica los mapas de calor#"
      ]
    },
    {
      "cell_type": "code",
      "source": [
        "nmf_grafico(total_goalkick,4)"
      ],
      "metadata": {
        "colab": {
          "base_uri": "https://localhost:8080/"
        },
        "id": "45usbxMTnyQf",
        "outputId": "fdb8ee84-c9e9-4fee-ef26-4b60298c7f0a"
      },
      "id": "45usbxMTnyQf",
      "execution_count": null,
      "outputs": [
        {
          "output_type": "display_data",
          "data": {
            "text/plain": [
              "<Figure size 420x310 with 2 Axes>"
            ],
            "image/png": "[encoded data removed]"
          },
          "metadata": {}
        },
        {
          "output_type": "display_data",
          "data": {
            "text/plain": [
              "<Figure size 420x310 with 2 Axes>"
            ],
            "image/png": "[encoded data removed]"
          },
          "metadata": {}
        },
        {
          "output_type": "display_data",
          "data": {
            "text/plain": [
              "<Figure size 420x310 with 2 Axes>"
            ],
            "image/png": "[encoded data removed]"
          },
          "metadata": {}
        },
        {
          "output_type": "display_data",
          "data": {
            "text/plain": [
              "<Figure size 420x310 with 2 Axes>"
            ],
            "image/png": "[encoded data removed]"
          },
          "metadata": {}
        }
      ]
    },
    {
      "cell_type": "markdown",
      "id": "df0de5e9",
      "metadata": {
        "id": "df0de5e9"
      },
      "source": [
        "### Obteniendo los pesos H"
      ]
    },
    {
      "cell_type": "markdown",
      "source": [
        "El número después de la flecha representa la cantidad de componentes en que se dividió cada mapa de calor de evento. Este valor se obtuvo en algunos casos siguiendo los ejemplos de la documentación y en otros casos probando descompoiciones, visualizando sus mapas de calor ya descompuestos y decidiendo en base a criterios de futbol\n",
        "\n",
        "\n",
        "\n",
        "*   total_shots -> 4\n",
        "* total_cross -> 3\n",
        "*   total_dribble -> 4\n",
        "*   total_ass_shot -> 4\n",
        "\n",
        "* total_pass_endzone -> 4\n",
        "* total_goalkick -> 4\n",
        "*\n",
        "* corner -> 3\n",
        "-------\n",
        "* total_recupera -> 4\n",
        "* total_faltas -> 3\n",
        "* total_presion -> 3\n",
        "* total_dribble_recibido -> 3 (DUDA SI INCLUIR O NO)\n",
        "\n",
        "CADA COMPONENTE REPRESENTA UN ESTILO DE JUEGO PARA CADA EVENTO\n",
        "\n",
        "\n",
        "\n",
        "\n"
      ],
      "metadata": {
        "id": "Bpa0iPFSijdT"
      },
      "id": "Bpa0iPFSijdT"
    },
    {
      "cell_type": "code",
      "execution_count": null,
      "id": "0690def8",
      "metadata": {
        "scrolled": true,
        "id": "0690def8"
      },
      "outputs": [],
      "source": [
        "#---------------------EVENTOS CON BALÓN\n",
        "#TIROS\n",
        "pesos_shots = NMF(total_shots, 4)\n",
        "pesos_shots_train = NMF(total_shots_train, 4)\n",
        "pesos_shots_test = NMF(total_shots_test, 4)\n",
        "#CENTROS - open play\n",
        "pesos_cross = NMF(total_cross, 3)\n",
        "pesos_cross_train = NMF(total_cross_train, 3)\n",
        "pesos_cross_test = NMF(total_cross_test, 3)\n",
        "# DRIBBLES\n",
        "pesos_dribble = NMF(total_dribble, 4)\n",
        "pesos_dribble_train = NMF(total_dribble_train, 4)\n",
        "pesos_dribble_test = NMF(total_dribble_test, 4)\n",
        "#Asistnecia de tiro\n",
        "pesos_ass_shot = NMF(total_ass_shot, 4)\n",
        "pesos_astshot_train = NMF(total_astshot_train, 4)\n",
        "pesos_astshot_test = NMF(total_astshot_test, 4)\n",
        "#Pase hacia ultimo 5to del campo\n",
        "pesos_toendzone = NMF(total_toendzone, 4)\n",
        "pesos_toendzone_train = NMF(total_toendzone_train, 4)\n",
        "pesos_toendzone_test = NMF(total_toendzone_test, 4)\n",
        "#Hacia donde van los saques de meta\n",
        "pesos_goalkick = NMF(total_goalkick, 4)\n",
        "pesos_goalkick_train = NMF(total_goalkick_train, 4)\n",
        "pesos_goalkick_test = NMF(total_goalkick_test, 4)\n",
        "#Pases incompletos en mitad propia\n",
        "pesos_passlost = NMF(total_passlost, 3)\n",
        "pesos_passlost_train = NMF(total_passlost_train, 3)\n",
        "pesos_passlost_test = NMF(total_passlost_test, 3)\n",
        "#Pases aereros\n",
        "pesos_passaerero = NMF(total_passaereo, 3)\n",
        "pesos_passaereo_train = NMF(total_passaereo_train, 3)\n",
        "pesos_passaereo_test = NMF(total_passaereo_test, 3)\n",
        "#Pases corner\n",
        "pesos_corner = NMF(total_corner, 3)\n",
        "pesos_corner_train = NMF(total_corner_train, 3)\n",
        "pesos_corner_test = NMF(total_corner_test, 3)\n"
      ]
    },
    {
      "cell_type": "code",
      "source": [
        "# ------------ EVENTOS SIN BALÓN -----------------\n",
        "\n",
        "#RECUPERACIONES\n",
        "pesos_recupera = NMF(total_recupera, 3)\n",
        "pesos_recupera_train = NMF(total_recupera_train, 3)\n",
        "pesos_recupera_test = NMF(total_recupera_test, 3)\n",
        "\n",
        "#PRESION\n",
        "pesos_presion = NMF(total_presion, 3)\n",
        "pesos_presion_train = NMF(total_presion_train, 3)\n",
        "pesos_presion_test = NMF(total_presion_test, 3)\n",
        "\n",
        "# FALTAS COMETIDAS\n",
        "pesos_faltas = NMF(total_faltas, 3)\n",
        "pesos_faltas_train = NMF(total_faltas_train, 3)\n",
        "pesos_faltas_test = NMF(total_faltas_test, 3)\n",
        "\n",
        "#DRIBBLE AGAINST\n",
        "pesos_dribblerecib = NMF(total_dribblerecib, 3)\n",
        "pesos_dribblerecib_train = NMF(total_dribblerecib_train, 3)\n",
        "pesos_dribblerecib_test = NMF(total_dribblerecib_test, 3)\n"
      ],
      "metadata": {
        "id": "ak8xdWynnr7C"
      },
      "id": "ak8xdWynnr7C",
      "execution_count": null,
      "outputs": []
    },
    {
      "cell_type": "markdown",
      "id": "bb91fcdc",
      "metadata": {
        "id": "bb91fcdc"
      },
      "source": [
        "### Transformando los pesos \"H\"\n",
        "para que la suma de estos de 1 para cada métrica. (ESTO AÚN NO SE HA APLICADO, ES OPCIONAL)"
      ]
    },
    {
      "cell_type": "code",
      "execution_count": null,
      "id": "9ba6c9f3",
      "metadata": {
        "id": "9ba6c9f3"
      },
      "outputs": [],
      "source": [
        "media_cross = pesos_cross[0].mean()+pesos_cross[1].mean()+pesos_cross[2].mean()\n",
        "new_pesos_cross = pesos_cross/media_cross\n",
        "new_pesos_cross[0].mean() + new_pesos_cross[1].mean() + new_pesos_cross[2].mean()"
      ]
    },
    {
      "cell_type": "markdown",
      "id": "79c97fe2",
      "metadata": {
        "id": "79c97fe2"
      },
      "source": [
        "## VALIDACIÓN: MMR\n",
        "Usaremos MRR para medir qué tan bien el modelo puede hacer coincidir a un equipo contra sí mismo basándose puramente en distribuciones de ubicación de eventos y frecuencias."
      ]
    },
    {
      "cell_type": "code",
      "source": [
        "#CON BALON\n",
        "pesos_shots_trainytest = [np.concatenate((arr1, arr2)) for arr1, arr2 in zip(pesos_shots_train, pesos_shots_test)]\n",
        "pesos_dribble_trainytest = [np.concatenate((arr1, arr2)) for arr1, arr2 in zip(pesos_dribble_train, pesos_dribble_test)]\n",
        "pesos_astshot_trainytest = [np.concatenate((arr1, arr2)) for arr1, arr2 in zip(pesos_astshot_train, pesos_astshot_test)]\n",
        "pesos_cross_trainytest = [np.concatenate((arr1, arr2)) for arr1, arr2 in zip(pesos_cross_train, pesos_cross_test)]\n",
        "pesos_toendzone_trainytest = [np.concatenate((arr1, arr2)) for arr1, arr2 in zip(pesos_toendzone_train, pesos_toendzone_test)]\n",
        "pesos_goalkick_trainytest = [np.concatenate((arr1, arr2)) for arr1, arr2 in zip(pesos_goalkick_train, pesos_goalkick_test)]\n",
        "pesos_passlost_trainytest = [np.concatenate((arr1, arr2)) for arr1, arr2 in zip(pesos_passlost_train, pesos_passlost_test)]\n",
        "pesos_passaereo_trainytest = [np.concatenate((arr1, arr2)) for arr1, arr2 in zip(pesos_passaereo_train, pesos_passaereo_test)]\n",
        "pesos_corner_trainytest = [np.concatenate((arr1, arr2)) for arr1, arr2 in zip(pesos_corner_train, pesos_corner_test)]\n"
      ],
      "metadata": {
        "id": "A0XWFpha_hJy"
      },
      "id": "A0XWFpha_hJy",
      "execution_count": null,
      "outputs": []
    },
    {
      "cell_type": "code",
      "source": [
        "#SIN BALON\n",
        "pesos_recupera_trainytest = [np.concatenate((arr1, arr2)) for arr1, arr2 in zip(pesos_recupera_train, pesos_recupera_test)]\n",
        "pesos_presion_trainytest = [np.concatenate((arr1, arr2)) for arr1, arr2 in zip(pesos_presion_train, pesos_presion_test)]\n",
        "pesos_faltas_trainytest = [np.concatenate((arr1, arr2)) for arr1, arr2 in zip(pesos_faltas_train, pesos_faltas_test)]\n",
        "pesos_dribblerecib_trainytest = [np.concatenate((arr1, arr2)) for arr1, arr2 in zip(pesos_dribblerecib_train, pesos_dribblerecib_test)]\n"
      ],
      "metadata": {
        "id": "otyKpMvnWq7m"
      },
      "id": "otyKpMvnWq7m",
      "execution_count": null,
      "outputs": []
    },
    {
      "cell_type": "markdown",
      "id": "c379f000",
      "metadata": {
        "id": "c379f000"
      },
      "source": [
        "### Armando matriz que contiene vectores por equipo\n",
        "A la salida tenemos una matriz de tamaño axb\n",
        " * a -> el doble del numero de equipo porque hemos separado los eventos de cada equipo en 2 partes\n",
        " * b -> numero total de componentes obtenidos\n",
        "\n"
      ]
    },
    {
      "cell_type": "code",
      "source": [
        "#opciones de modo = ['total', 'con balon', 'sin balon']\n",
        "modo = 'total'\n",
        "\n",
        "lista_pesos_total = [pesos_shots_trainytest, pesos_dribble_trainytest, pesos_astshot_trainytest, pesos_cross_trainytest,\n",
        "                     pesos_toendzone_trainytest, pesos_goalkick_trainytest, pesos_passlost_trainytest,\n",
        "                    pesos_presion_trainytest, pesos_corner_trainytest, pesos_recupera_trainytest, pesos_faltas_trainytest,\n",
        "                    pesos_presion_trainytest, pesos_dribblerecib_trainytest]\n",
        "\n",
        "\n",
        "lista_pesos_conbalon = [pesos_shots_trainytest, pesos_dribble_trainytest, pesos_astshot_trainytest, pesos_cross_trainytest,\n",
        "                        pesos_toendzone_trainytest, pesos_goalkick_trainytest, pesos_passlost_trainytest, pesos_passaereo_trainytest,\n",
        "                        pesos_corner_trainytest]\n",
        "\n",
        "#lista_pesos_sinbalon = [pesos_recupera_trainytest, pesos_faltas_trainytest, pesos_presion_trainytest, pesos_dribblerecib_trainytest]\n",
        "\n",
        "\n",
        "\n",
        "\n",
        "if modo == 'total':\n",
        "  lista_pesos = lista_pesos_total\n",
        "if modo == 'con balon':\n",
        "  lista_pesos = lista_pesos_conbalon\n",
        "if modo == 'sin balon':\n",
        "  lista_pesos = lista_pesos_sinbalon\n",
        "\n",
        "\n",
        "teams2 = np.concatenate((teams,teams+['_test']))\n",
        "n_teams2 = len(teams2)\n",
        "all_weights2 = []\n",
        "for j in range(n_teams2):\n",
        "    vector_equipo = []\n",
        "    for pesosx in lista_pesos:\n",
        "        n_comp = len(pesosx)\n",
        "        for i in range(n_comp):\n",
        "            vector_equipo.append(pesosx[i][j])\n",
        "    all_weights2.append(vector_equipo)"
      ],
      "metadata": {
        "id": "YoPC0eyl8KB2"
      },
      "id": "YoPC0eyl8KB2",
      "execution_count": null,
      "outputs": []
    },
    {
      "cell_type": "code",
      "source": [
        "teams"
      ],
      "metadata": {
        "colab": {
          "base_uri": "https://localhost:8080/"
        },
        "id": "bWLEMrOukkYv",
        "outputId": "7769e853-61de-4f5b-f1fb-edc6992890f5"
      },
      "id": "bWLEMrOukkYv",
      "execution_count": null,
      "outputs": [
        {
          "output_type": "execute_result",
          "data": {
            "text/plain": [
              "array(['Eibar', 'Levante UD', 'Sevilla', 'Las Palmas', 'Getafe',\n",
              "       'RC Deportivo La Coruña', 'Málaga', 'Espanyol', 'Sporting Gijón',\n",
              "       'Villarreal', 'Rayo Vallecano', 'Real Betis', 'Real Madrid',\n",
              "       'Athletic Club', 'Atlético Madrid', 'Celta Vigo', 'Real Sociedad',\n",
              "       'Valencia', 'Granada', 'Barcelona'], dtype=object)"
            ]
          },
          "metadata": {},
          "execution_count": 58
        }
      ]
    },
    {
      "cell_type": "markdown",
      "source": [
        "### Distancia Manhattan"
      ],
      "metadata": {
        "id": "7ecrx__ru0Cz"
      },
      "id": "7ecrx__ru0Cz"
    },
    {
      "cell_type": "code",
      "source": [
        "from sklearn.metrics.pairwise import manhattan_distances\n",
        "all_pesos2 = np.array(all_weights2)\n",
        "distancias2 = manhattan_distances(all_pesos2)\n",
        "distancias2.shape"
      ],
      "metadata": {
        "id": "w05CyqUOD_uJ",
        "colab": {
          "base_uri": "https://localhost:8080/"
        },
        "outputId": "af0722d3-12c2-4f63-d500-5f0abcadb38f"
      },
      "id": "w05CyqUOD_uJ",
      "execution_count": null,
      "outputs": [
        {
          "output_type": "execute_result",
          "data": {
            "text/plain": [
              "(40, 40)"
            ]
          },
          "metadata": {},
          "execution_count": 55
        }
      ]
    },
    {
      "cell_type": "code",
      "source": [
        "from sklearn.metrics.pairwise import cosine_distances\n",
        "all_pesos2 = np.array(all_weights2)\n",
        "distancias2 = cosine_distances(all_pesos2)\n",
        "distancias2.shape"
      ],
      "metadata": {
        "colab": {
          "base_uri": "https://localhost:8080/"
        },
        "id": "mTlpLqzrytIx",
        "outputId": "0a7d9b28-9cb1-43ac-fd18-3c86174cf464"
      },
      "id": "mTlpLqzrytIx",
      "execution_count": null,
      "outputs": [
        {
          "output_type": "execute_result",
          "data": {
            "text/plain": [
              "(40, 40)"
            ]
          },
          "metadata": {},
          "execution_count": 250
        }
      ]
    },
    {
      "cell_type": "markdown",
      "source": [
        "### Hallando MRR"
      ],
      "metadata": {
        "id": "hqGQIJknRNdp"
      },
      "id": "hqGQIJknRNdp"
    },
    {
      "cell_type": "code",
      "source": [
        "\n",
        "#Encontrando la posicion de similitud entre un equipo con sí mismo\n",
        "#Ejemplo solo para un equipo\n",
        "z = 4\n",
        "posiciones2 = list(range(len(distancias2[z])))\n",
        "lista_ordenada2 = sorted(distancias2[z])\n",
        "posiciones_ordenadas2 = sorted(posiciones2, key=lambda x: distancias2[z][x])\n",
        "#print(posiciones_ordenadas2)\n",
        "for i in range(10):\n",
        "  print(f'El {i}th equipo más parecido a {teams2[z]} es {teams2[posiciones_ordenadas2[i]]}')\n"
      ],
      "metadata": {
        "id": "QDcZv7D6EOFr",
        "colab": {
          "base_uri": "https://localhost:8080/"
        },
        "outputId": "c54176bc-46bb-4b8a-985e-c5994a81ee53"
      },
      "id": "QDcZv7D6EOFr",
      "execution_count": null,
      "outputs": [
        {
          "output_type": "stream",
          "name": "stdout",
          "text": [
            "El 0th equipo más parecido a Getafe es Getafe\n",
            "El 1th equipo más parecido a Getafe es Athletic Club\n",
            "El 2th equipo más parecido a Getafe es Getafe_test\n",
            "El 3th equipo más parecido a Getafe es Atlético Madrid_test\n",
            "El 4th equipo más parecido a Getafe es Real Sociedad\n",
            "El 5th equipo más parecido a Getafe es Atlético Madrid\n",
            "El 6th equipo más parecido a Getafe es Espanyol_test\n",
            "El 7th equipo más parecido a Getafe es Granada\n",
            "El 8th equipo más parecido a Getafe es Granada_test\n",
            "El 9th equipo más parecido a Getafe es Espanyol\n"
          ]
        }
      ]
    },
    {
      "cell_type": "code",
      "source": [
        "#Encontrando la posicion de similitud entre un equipo con sí mismo\n",
        "#para todos los equipos a la vez\n",
        "pos_simil = []\n",
        "for z in range(n_teams2):\n",
        "  posiciones2 = list(range(len(distancias2[z])))\n",
        "  lista_ordenada2 = sorted(distancias2[z])\n",
        "  posiciones_ordenadas2 = sorted(posiciones2, key=lambda x: distancias2[z][x])\n",
        "  if z<20:\n",
        "    pos = posiciones_ordenadas2.index(z+20)\n",
        "  else:\n",
        "    pos = posiciones_ordenadas2.index(z-20)\n",
        "  pos_simil.append(pos)\n",
        "\n",
        "pos_inversa = [1 / num for num in pos_simil]\n",
        "MRR = np.mean(pos_inversa)\n",
        "MRR"
      ],
      "metadata": {
        "colab": {
          "base_uri": "https://localhost:8080/"
        },
        "id": "v3KuVLjl26bx",
        "outputId": "e0afe531-97e2-4d4b-a542-7bc8b48d2ce5"
      },
      "id": "v3KuVLjl26bx",
      "execution_count": null,
      "outputs": [
        {
          "output_type": "execute_result",
          "data": {
            "text/plain": [
              "0.6180082866479925"
            ]
          },
          "metadata": {},
          "execution_count": 56
        }
      ]
    },
    {
      "cell_type": "code",
      "source": [
        "#Ordenando según equipos que más coinciden consigo mismo\n",
        "total_posiciones = list(range(40))\n",
        "simil_sorted = sorted(pos_simil)\n",
        "#print(simil_sorted)\n",
        "pos_simil_ordenada = sorted(total_posiciones, key=lambda x: pos_simil[x])\n",
        "#print(teams2[pos_simil_ordenada])\n",
        "\n",
        "for i in range(40):\n",
        "  print(f'{simil_sorted[i]} -> {teams2[pos_simil_ordenada][i]}')"
      ],
      "metadata": {
        "colab": {
          "base_uri": "https://localhost:8080/"
        },
        "id": "C0kxJJH6X6p7",
        "outputId": "2d99e799-32e4-4920-a61b-e7185fb57d0d"
      },
      "id": "C0kxJJH6X6p7",
      "execution_count": null,
      "outputs": [
        {
          "output_type": "stream",
          "name": "stdout",
          "text": [
            "1 -> Eibar\n",
            "1 -> Sevilla\n",
            "1 -> Málaga\n",
            "1 -> Espanyol\n",
            "1 -> Villarreal\n",
            "1 -> Real Madrid\n",
            "1 -> Atlético Madrid\n",
            "1 -> Celta Vigo\n",
            "1 -> Barcelona\n",
            "1 -> Eibar_test\n",
            "1 -> Levante UD_test\n",
            "1 -> Sevilla_test\n",
            "1 -> Getafe_test\n",
            "1 -> Villarreal_test\n",
            "1 -> Real Madrid_test\n",
            "1 -> Atlético Madrid_test\n",
            "1 -> Celta Vigo_test\n",
            "1 -> Valencia_test\n",
            "1 -> Barcelona_test\n",
            "2 -> Levante UD\n",
            "2 -> Getafe\n",
            "2 -> RC Deportivo La Coruña\n",
            "2 -> RC Deportivo La Coruña_test\n",
            "2 -> Espanyol_test\n",
            "3 -> Las Palmas\n",
            "3 -> Málaga_test\n",
            "3 -> Athletic Club_test\n",
            "4 -> Valencia\n",
            "4 -> Rayo Vallecano_test\n",
            "4 -> Real Betis_test\n",
            "4 -> Granada_test\n",
            "5 -> Rayo Vallecano\n",
            "5 -> Granada\n",
            "5 -> Real Sociedad_test\n",
            "7 -> Real Sociedad\n",
            "8 -> Las Palmas_test\n",
            "9 -> Athletic Club\n",
            "9 -> Sporting Gijón_test\n",
            "14 -> Real Betis\n",
            "17 -> Sporting Gijón\n"
          ]
        }
      ]
    },
    {
      "cell_type": "markdown",
      "id": "03dbd4ce",
      "metadata": {
        "id": "03dbd4ce"
      },
      "source": [
        "## RESULTADOS FINALES\n",
        "según distancias"
      ]
    },
    {
      "cell_type": "code",
      "source": [
        "#opciones de modo = ['total', 'con balon', 'sin balon']\n",
        "modo = 'con balon'\n",
        "\n",
        "lista_pesos_total = [pesos_shots, pesos_dribble, pesos_ass_shot, pesos_cross, pesos_toendzone, pesos_goalkick,\n",
        "                     pesos_passlost, pesos_presion, pesos_corner, pesos_recupera, pesos_faltas, pesos_presion, pesos_dribblerecib]\n",
        "\n",
        "\n",
        "lista_pesos_conbalon = [pesos_shots, pesos_dribble, pesos_ass_shot, pesos_cross, pesos_toendzone, pesos_goalkick,\n",
        "                     pesos_passlost, pesos_presion, pesos_corner]\n",
        "\n",
        "lista_pesos_sinbalon = [pesos_recupera, pesos_faltas, pesos_presion, pesos_dribblerecib]\n",
        "\n",
        "\n",
        "\n",
        "if modo == 'total':\n",
        "  lista_pesos = lista_pesos_total\n",
        "if modo == 'con balon':\n",
        "  lista_pesos = lista_pesos_conbalon\n",
        "if modo == 'sin balon':\n",
        "  lista_pesos = lista_pesos_sinbalon\n",
        "\n",
        "\n",
        "n_teams = len(teams)\n",
        "all_weights = []\n",
        "for j in range(n_teams):\n",
        "    vector_equipo = []\n",
        "    for pesosx in lista_pesos:\n",
        "        n_comp = len(pesosx)\n",
        "        for i in range(n_comp):\n",
        "            vector_equipo.append(pesosx[i][j])\n",
        "    all_weights.append(vector_equipo)"
      ],
      "metadata": {
        "id": "dSRFhSCw8jGQ"
      },
      "id": "dSRFhSCw8jGQ",
      "execution_count": null,
      "outputs": []
    },
    {
      "cell_type": "code",
      "execution_count": null,
      "id": "1d2fe914",
      "metadata": {
        "id": "1d2fe914"
      },
      "outputs": [],
      "source": [
        "#Calculando la distancia Manhattan entre cada para de vectores\n",
        "all_pesos = np.array(all_weights)\n",
        "distancias = manhattan_distances(all_pesos)"
      ]
    },
    {
      "cell_type": "code",
      "execution_count": null,
      "id": "5c85814a",
      "metadata": {
        "id": "5c85814a",
        "colab": {
          "base_uri": "https://localhost:8080/"
        },
        "outputId": "fe70e69c-7aa9-4793-f328-64ef30c8f485"
      },
      "outputs": [
        {
          "output_type": "stream",
          "name": "stdout",
          "text": [
            "[0, 1, 2, 3, 4, 5, 6, 7, 8, 9, 10, 11, 12, 13, 14, 15, 16, 17, 18, 19]\n",
            "[15, 3, 1, 12, 8, 7, 5, 17, 6, 9, 11, 18, 16, 14, 19, 4, 2, 0, 10, 13]\n"
          ]
        }
      ],
      "source": [
        "'''\n",
        "posiciones = list(range(len(distancias[15])))\n",
        "print(posiciones)\n",
        "lista_ordenada = sorted(distancias[15])\n",
        "#print(lista_ordenada)\n",
        "posiciones_ordenadas = sorted(posiciones, key=lambda x: distancias[15][x])\n",
        "print(posiciones_ordenadas)\n",
        "'''"
      ]
    },
    {
      "cell_type": "code",
      "source": [
        "#RESULTADOS FINALES\n",
        "equipo = 'Levante UD'\n",
        "\n",
        "z = list(teams).index(equipo)\n",
        "posiciones = list(range(len(distancias[z])))\n",
        "lista_ordenada = sorted(distancias[z])\n",
        "posiciones_ordenadas = sorted(posiciones, key=lambda x: distancias[z][x])\n",
        "for i in range(1,6):\n",
        "  print(f'El {i}th equipo más parecido a {teams[z]} es {teams[posiciones_ordenadas[i]]}')"
      ],
      "metadata": {
        "colab": {
          "base_uri": "https://localhost:8080/"
        },
        "id": "Mvi0JRVg-N40",
        "outputId": "31c6b82c-0dc0-4346-cda0-83d0f1168460"
      },
      "id": "Mvi0JRVg-N40",
      "execution_count": null,
      "outputs": [
        {
          "output_type": "stream",
          "name": "stdout",
          "text": [
            "El 1th equipo más parecido a Levante UD es Málaga\n",
            "El 2th equipo más parecido a Levante UD es Granada\n",
            "El 3th equipo más parecido a Levante UD es Las Palmas\n",
            "El 4th equipo más parecido a Levante UD es Real Sociedad\n",
            "El 5th equipo más parecido a Levante UD es Valencia\n"
          ]
        }
      ]
    }
  ],
  "metadata": {
    "kernelspec": {
      "display_name": "Python 3",
      "name": "python3"
    },
    "language_info": {
      "codemirror_mode": {
        "name": "ipython",
        "version": 3
      },
      "file_extension": ".py",
      "mimetype": "text/x-python",
      "name": "python",
      "nbconvert_exporter": "python",
      "pygments_lexer": "ipython3",
      "version": "3.11.3"
    },
    "colab": {
      "provenance": [],
      "collapsed_sections": [
        "z3yJPpySDnRl",
        "8aca6d09",
        "fc6b1b42",
        "2c683810",
        "E8MABaFcZg46",
        "CN3mJ4i5uhGx",
        "lJnsWTNzPK0v",
        "JgWwfsXhgwfi",
        "bb91fcdc",
        "79c97fe2",
        "03dbd4ce"
      ],
      "toc_visible": true,
      "gpuType": "T4"
    },
    "accelerator": "GPU"
  },
  "nbformat": 4,
  "nbformat_minor": 5
}
